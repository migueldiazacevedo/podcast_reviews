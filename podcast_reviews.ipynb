{
 "cells": [
  {
   "cell_type": "markdown",
   "id": "d48f8593-5696-4709-90f8-0e26e007a6c8",
   "metadata": {},
   "source": [
    "### Podcast Reviews - [2 million reviews on 100k podcasts](https://www.kaggle.com/datasets/thoughtvector/podcastreviews/versions/28)\n",
    "***\n",
    "#### <u>Overarching Investigation:\n",
    "#### -_What categories of podcasts are popular?_\n",
    "#### -_What makes a 5-star podcast? What makes a 1-star podcast?_\n",
    "#### -_How do reviewer tendencies vary and differ?_\n",
    "***\n",
    "#### Technical Goals:\n",
    "##### 1. Working with a SQLite Database\n",
    "##### 2. Using Python-based Data Analysis Packages such as Pandas\n",
    "##### 3. Data Visualization\n",
    "##### 4. Hypothesis Testing and Statistical Inference\n",
    "##### 5. [Making a Dashboard](https://lookerstudio.google.com/reporting/4b70c021-6318-464d-aacb-676f92817f84)\n",
    "--- "
   ]
  },
  {
   "cell_type": "code",
   "execution_count": 1,
   "id": "81cf3373-65a0-45fd-b097-497a1a9584e0",
   "metadata": {
    "ExecuteTime": {
     "end_time": "2024-10-14T22:18:20.594615Z",
     "start_time": "2024-10-14T22:18:18.454286Z"
    }
   },
   "outputs": [],
   "source": [
    "import os\n",
    "\n",
    "import matplotlib.pyplot as plt\n",
    "import numpy as np\n",
    "import pandas as pd\n",
    "import scipy.stats as stats\n",
    "import seaborn as sns\n",
    "import statsmodels.api as sm\n",
    "from utils.podcast_utils import (\n",
    "    bootstrap_confidence_interval_two_means,\n",
    "    extract_supercategory,\n",
    "    grouping,\n",
    "    mean_diff_permutation,\n",
    "    proportion_diff_permutation,\n",
    "    query_to_df,\n",
    "    see_tables,\n",
    ")\n",
    "from scipy.stats import chi2_contingency, chisquare, wilcoxon"
   ]
  },
  {
   "cell_type": "code",
   "execution_count": 2,
   "id": "76c47fc9868bebc5",
   "metadata": {
    "ExecuteTime": {
     "end_time": "2024-10-14T22:18:22.895007Z",
     "start_time": "2024-10-14T22:18:22.826855Z"
    },
    "collapsed": false,
    "jupyter": {
     "outputs_hidden": false
    }
   },
   "outputs": [],
   "source": [
    "%matplotlib inline\n",
    "\n",
    "plt.rcParams[\"figure.figsize\"] = (10, 6)\n",
    "plt.rcParams[\"axes.titlesize\"] = 16\n",
    "plt.rcParams[\"axes.labelsize\"] = 14\n",
    "plt.rcParams[\"xtick.labelsize\"] = 12\n",
    "plt.rcParams[\"ytick.labelsize\"] = 12\n",
    "plt.rcParams[\"grid.alpha\"] = 0.5\n",
    "plt.rcParams[\"grid.linestyle\"] = \"-\"\n",
    "plt.rcParams[\"grid.linewidth\"] = 0.5\n",
    "plt.rcParams[\"axes.edgecolor\"] = \"black\"\n",
    "\n",
    "sns.set_style(\"white\")\n",
    "sns.set_palette(\"colorblind\")\n",
    "sns.set_context(\"notebook\")"
   ]
  },
  {
   "cell_type": "markdown",
   "id": "42f790b4-da78-4924-9f16-c6837f8bf343",
   "metadata": {},
   "source": [
    "*** \n",
    "__Accessing the Database & First Looks at the Data__"
   ]
  },
  {
   "cell_type": "markdown",
   "id": "582338db",
   "metadata": {},
   "source": [
    "steps:<br>\n",
    "1. make sure you have a \"data\" folder\n",
    "2. Download the data from [Kaggle](https://www.kaggle.com/datasets/thoughtvector/podcastreviews/versions/28)\n",
    "3. Unzip the folder\n",
    "4. Ensure that the file \"database.sqlite\" can be found in the data folder\n",
    "\n",
    "Running the cell below will create the data folder for you. <br>"
   ]
  },
  {
   "cell_type": "code",
   "execution_count": 3,
   "id": "caac10e5",
   "metadata": {
    "ExecuteTime": {
     "end_time": "2024-10-14T22:21:17.387182Z",
     "start_time": "2024-10-14T22:21:17.382660Z"
    }
   },
   "outputs": [],
   "source": [
    "os.makedirs('data', exist_ok=True)"
   ]
  },
  {
   "cell_type": "markdown",
   "id": "596785b6",
   "metadata": {},
   "source": [
    "I recommend downloading the database yourself through the link provided above as I ran into unexpected errors using the KaggleAPI with this particular database. However, see previous projects of mine such as \"mental_health_tech_survey\" to see how to use the Kaggle API for automated data downloading. "
   ]
  },
  {
   "cell_type": "markdown",
   "id": "7f39435b",
   "metadata": {},
   "source": [
    "At this point, I assume that you have downloaded the data frome Kaggle and placed the file \"database.sqlite\" into the newly created \"data\" folder<br><br>"
   ]
  },
  {
   "cell_type": "code",
   "execution_count": 4,
   "id": "aafec2e8-7bc9-4f47-8d98-673676c27334",
   "metadata": {
    "ExecuteTime": {
     "end_time": "2024-03-18T23:52:50.899411Z",
     "start_time": "2024-03-18T23:52:50.895087Z"
    }
   },
   "outputs": [],
   "source": [
    "db = \"./data/database.sqlite\""
   ]
  },
  {
   "cell_type": "code",
   "execution_count": 5,
   "id": "7655e57b-3571-469a-84c1-09013c88106a",
   "metadata": {
    "ExecuteTime": {
     "end_time": "2024-10-14T22:24:50.764985Z",
     "start_time": "2024-10-14T22:24:50.198983Z"
    }
   },
   "outputs": [
    {
     "name": "stdout",
     "output_type": "stream",
     "text": [
      "The tables in the current database are: \"runs, podcasts, categories, reviews\".\n"
     ]
    }
   ],
   "source": [
    "tables = see_tables(db)"
   ]
  },
  {
   "cell_type": "markdown",
   "id": "a60afd6cb0cc1bbc",
   "metadata": {
    "collapsed": false,
    "jupyter": {
     "outputs_hidden": false
    }
   },
   "source": [
    "examples of code that I used to look at database tables would include:\n",
    "```Python\n",
    "query_to_df(\"select * from runs limit 10\")\n",
    "query_to_df(\"select * from podcasts limit 10\")\n",
    "query_to_df(\"select * from categories limit 10\")\n",
    "query_to_df(\"select * from reviews limit 10\")\n",
    "```\n",
    "*** \n",
    "### What are the various podcast categories?"
   ]
  },
  {
   "cell_type": "code",
   "execution_count": 6,
   "id": "f5f8c64ca1c78e5e",
   "metadata": {
    "ExecuteTime": {
     "end_time": "2024-03-18T23:52:55.091752Z",
     "start_time": "2024-03-18T23:52:53.945996Z"
    },
    "collapsed": false,
    "jupyter": {
     "outputs_hidden": false
    }
   },
   "outputs": [
    {
     "data": {
      "text/html": [
       "<div>\n",
       "<style scoped>\n",
       "    .dataframe tbody tr th:only-of-type {\n",
       "        vertical-align: middle;\n",
       "    }\n",
       "\n",
       "    .dataframe tbody tr th {\n",
       "        vertical-align: top;\n",
       "    }\n",
       "\n",
       "    .dataframe thead th {\n",
       "        text-align: right;\n",
       "    }\n",
       "</style>\n",
       "<table border=\"1\" class=\"dataframe\">\n",
       "  <thead>\n",
       "    <tr style=\"text-align: right;\">\n",
       "      <th></th>\n",
       "      <th>podcast_id</th>\n",
       "      <th>categories</th>\n",
       "    </tr>\n",
       "  </thead>\n",
       "  <tbody>\n",
       "    <tr>\n",
       "      <th>0</th>\n",
       "      <td>a00018b54eb342567c94dacfb2a3e504</td>\n",
       "      <td>business</td>\n",
       "    </tr>\n",
       "    <tr>\n",
       "      <th>1</th>\n",
       "      <td>a00043d34e734b09246d17dc5d56f63c</td>\n",
       "      <td>christianity,religion-spirituality</td>\n",
       "    </tr>\n",
       "    <tr>\n",
       "      <th>2</th>\n",
       "      <td>a0004b1ef445af9dc84dad1e7821b1e3</td>\n",
       "      <td>religion-spirituality,spirituality</td>\n",
       "    </tr>\n",
       "    <tr>\n",
       "      <th>3</th>\n",
       "      <td>a00071f9aaae9ac725c3a586701abf4d</td>\n",
       "      <td>business,business-investing</td>\n",
       "    </tr>\n",
       "    <tr>\n",
       "      <th>4</th>\n",
       "      <td>a000a500f06555f81220c3eb641aded7</td>\n",
       "      <td>news-entertainment-news</td>\n",
       "    </tr>\n",
       "    <tr>\n",
       "      <th>...</th>\n",
       "      <td>...</td>\n",
       "      <td>...</td>\n",
       "    </tr>\n",
       "    <tr>\n",
       "      <th>110019</th>\n",
       "      <td>ffff32caeedd6254573ad1cc49852595</td>\n",
       "      <td>news,news-daily-news</td>\n",
       "    </tr>\n",
       "    <tr>\n",
       "      <th>110020</th>\n",
       "      <td>ffff5db4b5db2d860c49749e5de8a36d</td>\n",
       "      <td>arts,arts-books</td>\n",
       "    </tr>\n",
       "    <tr>\n",
       "      <th>110021</th>\n",
       "      <td>ffff66f98c1adfc8d0d6c41bb8facfd0</td>\n",
       "      <td>comedy</td>\n",
       "    </tr>\n",
       "    <tr>\n",
       "      <th>110022</th>\n",
       "      <td>ffff923482740bc21a0fe184865ec2e2</td>\n",
       "      <td>education</td>\n",
       "    </tr>\n",
       "    <tr>\n",
       "      <th>110023</th>\n",
       "      <td>ffffbd44ec5f79d502f16ae372bf2d4f</td>\n",
       "      <td>comedy</td>\n",
       "    </tr>\n",
       "  </tbody>\n",
       "</table>\n",
       "<p>110024 rows × 2 columns</p>\n",
       "</div>"
      ],
      "text/plain": [
       "                              podcast_id                          categories\n",
       "0       a00018b54eb342567c94dacfb2a3e504                            business\n",
       "1       a00043d34e734b09246d17dc5d56f63c  christianity,religion-spirituality\n",
       "2       a0004b1ef445af9dc84dad1e7821b1e3  religion-spirituality,spirituality\n",
       "3       a00071f9aaae9ac725c3a586701abf4d         business,business-investing\n",
       "4       a000a500f06555f81220c3eb641aded7             news-entertainment-news\n",
       "...                                  ...                                 ...\n",
       "110019  ffff32caeedd6254573ad1cc49852595                news,news-daily-news\n",
       "110020  ffff5db4b5db2d860c49749e5de8a36d                     arts,arts-books\n",
       "110021  ffff66f98c1adfc8d0d6c41bb8facfd0                              comedy\n",
       "110022  ffff923482740bc21a0fe184865ec2e2                           education\n",
       "110023  ffffbd44ec5f79d502f16ae372bf2d4f                              comedy\n",
       "\n",
       "[110024 rows x 2 columns]"
      ]
     },
     "execution_count": 6,
     "metadata": {},
     "output_type": "execute_result"
    }
   ],
   "source": [
    "categories_query = \"\"\"\n",
    "                   SELECT podcast_id, \n",
    "                          GROUP_CONCAT(category) as categories \n",
    "                   FROM categories \n",
    "                   GROUP BY podcast_id\n",
    "                   \"\"\"\n",
    "categories_table = query_to_df(categories_query, database=db)\n",
    "categories_table"
   ]
  },
  {
   "cell_type": "code",
   "execution_count": 7,
   "id": "b460ea2d7e74d2ce",
   "metadata": {
    "ExecuteTime": {
     "end_time": "2024-03-18T23:52:56.379326Z",
     "start_time": "2024-03-18T23:52:56.222085Z"
    },
    "collapsed": false,
    "jupyter": {
     "outputs_hidden": false
    }
   },
   "outputs": [
    {
     "data": {
      "text/html": [
       "<div>\n",
       "<style scoped>\n",
       "    .dataframe tbody tr th:only-of-type {\n",
       "        vertical-align: middle;\n",
       "    }\n",
       "\n",
       "    .dataframe tbody tr th {\n",
       "        vertical-align: top;\n",
       "    }\n",
       "\n",
       "    .dataframe thead th {\n",
       "        text-align: right;\n",
       "    }\n",
       "</style>\n",
       "<table border=\"1\" class=\"dataframe\">\n",
       "  <thead>\n",
       "    <tr style=\"text-align: right;\">\n",
       "      <th></th>\n",
       "      <th>podcast_id</th>\n",
       "      <th>categories</th>\n",
       "      <th>supercategory</th>\n",
       "    </tr>\n",
       "  </thead>\n",
       "  <tbody>\n",
       "    <tr>\n",
       "      <th>0</th>\n",
       "      <td>a00018b54eb342567c94dacfb2a3e504</td>\n",
       "      <td>business</td>\n",
       "      <td>business</td>\n",
       "    </tr>\n",
       "    <tr>\n",
       "      <th>1</th>\n",
       "      <td>a00043d34e734b09246d17dc5d56f63c</td>\n",
       "      <td>christianity,religion-spirituality</td>\n",
       "      <td>spirituality</td>\n",
       "    </tr>\n",
       "    <tr>\n",
       "      <th>2</th>\n",
       "      <td>a0004b1ef445af9dc84dad1e7821b1e3</td>\n",
       "      <td>religion-spirituality,spirituality</td>\n",
       "      <td>spirituality</td>\n",
       "    </tr>\n",
       "    <tr>\n",
       "      <th>3</th>\n",
       "      <td>a00071f9aaae9ac725c3a586701abf4d</td>\n",
       "      <td>business,business-investing</td>\n",
       "      <td>business</td>\n",
       "    </tr>\n",
       "    <tr>\n",
       "      <th>4</th>\n",
       "      <td>a000a500f06555f81220c3eb641aded7</td>\n",
       "      <td>news-entertainment-news</td>\n",
       "      <td>news-government</td>\n",
       "    </tr>\n",
       "    <tr>\n",
       "      <th>...</th>\n",
       "      <td>...</td>\n",
       "      <td>...</td>\n",
       "      <td>...</td>\n",
       "    </tr>\n",
       "    <tr>\n",
       "      <th>110019</th>\n",
       "      <td>ffff32caeedd6254573ad1cc49852595</td>\n",
       "      <td>news,news-daily-news</td>\n",
       "      <td>news-government</td>\n",
       "    </tr>\n",
       "    <tr>\n",
       "      <th>110020</th>\n",
       "      <td>ffff5db4b5db2d860c49749e5de8a36d</td>\n",
       "      <td>arts,arts-books</td>\n",
       "      <td>arts</td>\n",
       "    </tr>\n",
       "    <tr>\n",
       "      <th>110021</th>\n",
       "      <td>ffff66f98c1adfc8d0d6c41bb8facfd0</td>\n",
       "      <td>comedy</td>\n",
       "      <td>comedy</td>\n",
       "    </tr>\n",
       "    <tr>\n",
       "      <th>110022</th>\n",
       "      <td>ffff923482740bc21a0fe184865ec2e2</td>\n",
       "      <td>education</td>\n",
       "      <td>education</td>\n",
       "    </tr>\n",
       "    <tr>\n",
       "      <th>110023</th>\n",
       "      <td>ffffbd44ec5f79d502f16ae372bf2d4f</td>\n",
       "      <td>comedy</td>\n",
       "      <td>comedy</td>\n",
       "    </tr>\n",
       "  </tbody>\n",
       "</table>\n",
       "<p>110024 rows × 3 columns</p>\n",
       "</div>"
      ],
      "text/plain": [
       "                              podcast_id                          categories  \\\n",
       "0       a00018b54eb342567c94dacfb2a3e504                            business   \n",
       "1       a00043d34e734b09246d17dc5d56f63c  christianity,religion-spirituality   \n",
       "2       a0004b1ef445af9dc84dad1e7821b1e3  religion-spirituality,spirituality   \n",
       "3       a00071f9aaae9ac725c3a586701abf4d         business,business-investing   \n",
       "4       a000a500f06555f81220c3eb641aded7             news-entertainment-news   \n",
       "...                                  ...                                 ...   \n",
       "110019  ffff32caeedd6254573ad1cc49852595                news,news-daily-news   \n",
       "110020  ffff5db4b5db2d860c49749e5de8a36d                     arts,arts-books   \n",
       "110021  ffff66f98c1adfc8d0d6c41bb8facfd0                              comedy   \n",
       "110022  ffff923482740bc21a0fe184865ec2e2                           education   \n",
       "110023  ffffbd44ec5f79d502f16ae372bf2d4f                              comedy   \n",
       "\n",
       "          supercategory  \n",
       "0              business  \n",
       "1          spirituality  \n",
       "2          spirituality  \n",
       "3              business  \n",
       "4       news-government  \n",
       "...                 ...  \n",
       "110019  news-government  \n",
       "110020             arts  \n",
       "110021           comedy  \n",
       "110022        education  \n",
       "110023           comedy  \n",
       "\n",
       "[110024 rows x 3 columns]"
      ]
     },
     "execution_count": 7,
     "metadata": {},
     "output_type": "execute_result"
    }
   ],
   "source": [
    "categories_table[\"supercategory\"] = categories_table[\"categories\"].apply(\n",
    "    extract_supercategory\n",
    ")\n",
    "categories_table[\"supercategory\"] = categories_table[\"supercategory\"].apply(grouping)\n",
    "categories_table"
   ]
  },
  {
   "cell_type": "code",
   "execution_count": 8,
   "id": "50ca630ab4681b1d",
   "metadata": {
    "ExecuteTime": {
     "end_time": "2024-03-18T23:52:57.416902Z",
     "start_time": "2024-03-18T23:52:57.398728Z"
    },
    "collapsed": false,
    "jupyter": {
     "outputs_hidden": false
    }
   },
   "outputs": [
    {
     "data": {
      "text/html": [
       "<div>\n",
       "<style scoped>\n",
       "    .dataframe tbody tr th:only-of-type {\n",
       "        vertical-align: middle;\n",
       "    }\n",
       "\n",
       "    .dataframe tbody tr th {\n",
       "        vertical-align: top;\n",
       "    }\n",
       "\n",
       "    .dataframe thead th {\n",
       "        text-align: right;\n",
       "    }\n",
       "</style>\n",
       "<table border=\"1\" class=\"dataframe\">\n",
       "  <thead>\n",
       "    <tr style=\"text-align: right;\">\n",
       "      <th></th>\n",
       "      <th>supercategory</th>\n",
       "      <th>count</th>\n",
       "    </tr>\n",
       "  </thead>\n",
       "  <tbody>\n",
       "    <tr>\n",
       "      <th>0</th>\n",
       "      <td>arts</td>\n",
       "      <td>19776</td>\n",
       "    </tr>\n",
       "    <tr>\n",
       "      <th>1</th>\n",
       "      <td>business</td>\n",
       "      <td>12414</td>\n",
       "    </tr>\n",
       "    <tr>\n",
       "      <th>2</th>\n",
       "      <td>comedy</td>\n",
       "      <td>11964</td>\n",
       "    </tr>\n",
       "    <tr>\n",
       "      <th>3</th>\n",
       "      <td>spirituality</td>\n",
       "      <td>11507</td>\n",
       "    </tr>\n",
       "    <tr>\n",
       "      <th>4</th>\n",
       "      <td>society-culture</td>\n",
       "      <td>11198</td>\n",
       "    </tr>\n",
       "    <tr>\n",
       "      <th>5</th>\n",
       "      <td>education</td>\n",
       "      <td>9856</td>\n",
       "    </tr>\n",
       "    <tr>\n",
       "      <th>6</th>\n",
       "      <td>sports</td>\n",
       "      <td>7405</td>\n",
       "    </tr>\n",
       "    <tr>\n",
       "      <th>7</th>\n",
       "      <td>health</td>\n",
       "      <td>6545</td>\n",
       "    </tr>\n",
       "    <tr>\n",
       "      <th>8</th>\n",
       "      <td>news-government</td>\n",
       "      <td>5792</td>\n",
       "    </tr>\n",
       "    <tr>\n",
       "      <th>9</th>\n",
       "      <td>leisure</td>\n",
       "      <td>5613</td>\n",
       "    </tr>\n",
       "    <tr>\n",
       "      <th>10</th>\n",
       "      <td>science-technology</td>\n",
       "      <td>2645</td>\n",
       "    </tr>\n",
       "    <tr>\n",
       "      <th>11</th>\n",
       "      <td>kids</td>\n",
       "      <td>2125</td>\n",
       "    </tr>\n",
       "    <tr>\n",
       "      <th>12</th>\n",
       "      <td>history</td>\n",
       "      <td>1269</td>\n",
       "    </tr>\n",
       "    <tr>\n",
       "      <th>13</th>\n",
       "      <td>fiction</td>\n",
       "      <td>1184</td>\n",
       "    </tr>\n",
       "    <tr>\n",
       "      <th>14</th>\n",
       "      <td>true-crime</td>\n",
       "      <td>731</td>\n",
       "    </tr>\n",
       "  </tbody>\n",
       "</table>\n",
       "</div>"
      ],
      "text/plain": [
       "         supercategory  count\n",
       "0                 arts  19776\n",
       "1             business  12414\n",
       "2               comedy  11964\n",
       "3         spirituality  11507\n",
       "4      society-culture  11198\n",
       "5            education   9856\n",
       "6               sports   7405\n",
       "7               health   6545\n",
       "8      news-government   5792\n",
       "9              leisure   5613\n",
       "10  science-technology   2645\n",
       "11                kids   2125\n",
       "12             history   1269\n",
       "13             fiction   1184\n",
       "14          true-crime    731"
      ]
     },
     "execution_count": 8,
     "metadata": {},
     "output_type": "execute_result"
    }
   ],
   "source": [
    "categories_counts = categories_table[\"supercategory\"].value_counts()\n",
    "categories_counts = categories_counts.reset_index()\n",
    "categories_counts"
   ]
  },
  {
   "cell_type": "code",
   "execution_count": 9,
   "id": "6a0b1b8df9aae8a5",
   "metadata": {
    "ExecuteTime": {
     "end_time": "2024-03-18T23:52:58.978121Z",
     "start_time": "2024-03-18T23:52:58.433046Z"
    },
    "collapsed": false,
    "jupyter": {
     "outputs_hidden": false
    }
   },
   "outputs": [
    {
     "data": {
      "image/png": "[encoded data removed]",
      "text/plain": [
       "<Figure size 1200x700 with 1 Axes>"
      ]
     },
     "metadata": {},
     "output_type": "display_data"
    }
   ],
   "source": [
    "plt.figure(figsize=(12, 7))\n",
    "\n",
    "ax = sns.barplot(\n",
    "    data=categories_counts,\n",
    "    x=\"count\",\n",
    "    y=\"supercategory\",\n",
    "    hue=\"supercategory\",\n",
    "    orient=\"h\",\n",
    "    dodge=False\n",
    ")\n",
    "for container in ax.containers:\n",
    "    ax.bar_label(container, fontsize=10)\n",
    "\n",
    "plt.title('Number of Podcasts Reviewed By \"Supercategory\"')\n",
    "plt.ylabel(\"\")\n",
    "plt.xlabel(\"Number of Podcasts\")\n",
    "\n",
    "sns.despine(left=True, bottom=True, right=True, top=True)\n",
    "ax.xaxis.set_ticks_position(\"bottom\")\n",
    "ax.xaxis.set_tick_params(width=1, length=5)\n",
    "ax.yaxis.set_ticks_position(\"left\")\n",
    "ax.yaxis.set_tick_params(width=1, length=5)\n",
    "\n",
    "plt.show()"
   ]
  },
  {
   "cell_type": "markdown",
   "id": "39c730dda6b66923",
   "metadata": {
    "collapsed": false,
    "jupyter": {
     "outputs_hidden": false
    }
   },
   "source": [
    "__Are some categories truly more popular than others?__ <br>\n",
    "Clearly we can see this, but to test this simple hypothesis statistically we could invoke a Chi-Squared Analysis to compare these counts to a model of uniformity. "
   ]
  },
  {
   "cell_type": "code",
   "execution_count": 10,
   "id": "26fc63c51e8e8188",
   "metadata": {
    "ExecuteTime": {
     "end_time": "2024-03-18T23:53:00.687649Z",
     "start_time": "2024-03-18T23:53:00.682306Z"
    },
    "collapsed": false,
    "jupyter": {
     "outputs_hidden": false
    }
   },
   "outputs": [
    {
     "name": "stdout",
     "output_type": "stream",
     "text": [
      "\n",
      "    According to a Chi-Squared test against the uniform distribution, the current data is distributed\n",
      "    with a Chi-Squared Statistic = 56448.429, p<0.001 (i.e. p = 0.0).\n",
      "    \n"
     ]
    }
   ],
   "source": [
    "chi_2, p = chisquare(f_obs=categories_counts[\"count\"])\n",
    "print(\n",
    "    f\"\"\"\n",
    "    According to a Chi-Squared test against the uniform distribution, the current data is distributed\n",
    "    with a Chi-Squared Statistic = {chi_2:.3f}, p<0.001 (i.e. p = {p}).\n",
    "    \"\"\"\n",
    ")"
   ]
  },
  {
   "cell_type": "markdown",
   "id": "b8fa932377148d58",
   "metadata": {
    "collapsed": false,
    "jupyter": {
     "outputs_hidden": false
    }
   },
   "source": [
    "__Interim summary__:<br> \n",
    "Compared to a uniform model where data is the same in all categories, it appears that there is very significant preferences to review specific podcasts with arts podcasts being the most represented and true-crime being the least represented. Next, we will investigate how different categories of podcasts are rated."
   ]
  },
  {
   "cell_type": "markdown",
   "id": "9c8c0dda178b305b",
   "metadata": {
    "collapsed": false,
    "jupyter": {
     "outputs_hidden": false
    }
   },
   "source": [
    "# Ratings Analysis"
   ]
  },
  {
   "cell_type": "code",
   "execution_count": 11,
   "id": "b43d11cef1a1848f",
   "metadata": {
    "ExecuteTime": {
     "end_time": "2024-03-18T23:53:45.077590Z",
     "start_time": "2024-03-18T23:53:03.866259Z"
    },
    "collapsed": false,
    "jupyter": {
     "outputs_hidden": false
    }
   },
   "outputs": [
    {
     "data": {
      "text/html": [
       "<div>\n",
       "<style scoped>\n",
       "    .dataframe tbody tr th:only-of-type {\n",
       "        vertical-align: middle;\n",
       "    }\n",
       "\n",
       "    .dataframe tbody tr th {\n",
       "        vertical-align: top;\n",
       "    }\n",
       "\n",
       "    .dataframe thead th {\n",
       "        text-align: right;\n",
       "    }\n",
       "</style>\n",
       "<table border=\"1\" class=\"dataframe\">\n",
       "  <thead>\n",
       "    <tr style=\"text-align: right;\">\n",
       "      <th></th>\n",
       "      <th>podcast_name</th>\n",
       "      <th>review_content</th>\n",
       "      <th>reviewer</th>\n",
       "      <th>rating</th>\n",
       "      <th>category</th>\n",
       "    </tr>\n",
       "  </thead>\n",
       "  <tbody>\n",
       "    <tr>\n",
       "      <th>0</th>\n",
       "      <td>! Weird Rap Podcast !</td>\n",
       "      <td>It’s my podcast, so probably not the most obje...</td>\n",
       "      <td>199C3835F333D11</td>\n",
       "      <td>5.0</td>\n",
       "      <td>arts</td>\n",
       "    </tr>\n",
       "    <tr>\n",
       "      <th>1</th>\n",
       "      <td>! Weird Rap Podcast !</td>\n",
       "      <td>In 1999 I listened to Livin’ Astro on repeat u...</td>\n",
       "      <td>61ED6D289B34165</td>\n",
       "      <td>5.0</td>\n",
       "      <td>arts</td>\n",
       "    </tr>\n",
       "    <tr>\n",
       "      <th>2</th>\n",
       "      <td>! Weird Rap Podcast !</td>\n",
       "      <td>CHOKING VICTIM. 🕯\\n\\n                         ...</td>\n",
       "      <td>61ED6D289B34165</td>\n",
       "      <td>5.0</td>\n",
       "      <td>arts</td>\n",
       "    </tr>\n",
       "    <tr>\n",
       "      <th>3</th>\n",
       "      <td>! Weird Rap Podcast !</td>\n",
       "      <td>This is a side of hip hop that needs more expo...</td>\n",
       "      <td>9FB47600CF3E273</td>\n",
       "      <td>5.0</td>\n",
       "      <td>arts</td>\n",
       "    </tr>\n",
       "    <tr>\n",
       "      <th>4</th>\n",
       "      <td>! Weird Rap Podcast !</td>\n",
       "      <td>Super intelligent discussions etc about a broa...</td>\n",
       "      <td>D94D81A696EE91B</td>\n",
       "      <td>5.0</td>\n",
       "      <td>arts</td>\n",
       "    </tr>\n",
       "    <tr>\n",
       "      <th>...</th>\n",
       "      <td>...</td>\n",
       "      <td>...</td>\n",
       "      <td>...</td>\n",
       "      <td>...</td>\n",
       "      <td>...</td>\n",
       "    </tr>\n",
       "    <tr>\n",
       "      <th>2041748</th>\n",
       "      <td>𝑠𝑘𝑦 𝑜𝑓 𝑓𝑒𝑒𝑙𝑖𝑛𝑔𝑠 🧃</td>\n",
       "      <td>I love this but can u do fav crime PLZ 🥺🙏🏼</td>\n",
       "      <td>F460771CCF036E4</td>\n",
       "      <td>5.0</td>\n",
       "      <td>arts</td>\n",
       "    </tr>\n",
       "    <tr>\n",
       "      <th>2041749</th>\n",
       "      <td>𝑠𝑘𝑦 𝑜𝑓 𝑓𝑒𝑒𝑙𝑖𝑛𝑔𝑠 🧃</td>\n",
       "      <td>Lovely!, it kinda sound sad to me but over all...</td>\n",
       "      <td>ABBA758F55A4124</td>\n",
       "      <td>5.0</td>\n",
       "      <td>arts</td>\n",
       "    </tr>\n",
       "    <tr>\n",
       "      <th>2041750</th>\n",
       "      <td>𝑠𝑘𝑦 𝑜𝑓 𝑓𝑒𝑒𝑙𝑖𝑛𝑔𝑠 🧃</td>\n",
       "      <td>Your Olivia Rodrigo are really good.</td>\n",
       "      <td>3AE7C274696E9E3</td>\n",
       "      <td>5.0</td>\n",
       "      <td>arts</td>\n",
       "    </tr>\n",
       "    <tr>\n",
       "      <th>2041751</th>\n",
       "      <td>𝑠𝑘𝑦 𝑜𝑓 𝑓𝑒𝑒𝑙𝑖𝑛𝑔𝑠 🧃</td>\n",
       "      <td>Do favorite crime please! But although I love ...</td>\n",
       "      <td>46EB6E624033FE9</td>\n",
       "      <td>5.0</td>\n",
       "      <td>arts</td>\n",
       "    </tr>\n",
       "    <tr>\n",
       "      <th>2041752</th>\n",
       "      <td>𝑠𝑘𝑦 𝑜𝑓 𝑓𝑒𝑒𝑙𝑖𝑛𝑔𝑠 🧃</td>\n",
       "      <td>Thank u for putting this here!</td>\n",
       "      <td>5E65BEBB9D1890F</td>\n",
       "      <td>5.0</td>\n",
       "      <td>arts</td>\n",
       "    </tr>\n",
       "  </tbody>\n",
       "</table>\n",
       "<p>2041753 rows × 5 columns</p>\n",
       "</div>"
      ],
      "text/plain": [
       "                  podcast_name  \\\n",
       "0        ! Weird Rap Podcast !   \n",
       "1        ! Weird Rap Podcast !   \n",
       "2        ! Weird Rap Podcast !   \n",
       "3        ! Weird Rap Podcast !   \n",
       "4        ! Weird Rap Podcast !   \n",
       "...                        ...   \n",
       "2041748      𝑠𝑘𝑦 𝑜𝑓 𝑓𝑒𝑒𝑙𝑖𝑛𝑔𝑠 🧃   \n",
       "2041749      𝑠𝑘𝑦 𝑜𝑓 𝑓𝑒𝑒𝑙𝑖𝑛𝑔𝑠 🧃   \n",
       "2041750      𝑠𝑘𝑦 𝑜𝑓 𝑓𝑒𝑒𝑙𝑖𝑛𝑔𝑠 🧃   \n",
       "2041751      𝑠𝑘𝑦 𝑜𝑓 𝑓𝑒𝑒𝑙𝑖𝑛𝑔𝑠 🧃   \n",
       "2041752      𝑠𝑘𝑦 𝑜𝑓 𝑓𝑒𝑒𝑙𝑖𝑛𝑔𝑠 🧃   \n",
       "\n",
       "                                            review_content         reviewer  \\\n",
       "0        It’s my podcast, so probably not the most obje...  199C3835F333D11   \n",
       "1        In 1999 I listened to Livin’ Astro on repeat u...  61ED6D289B34165   \n",
       "2        CHOKING VICTIM. 🕯\\n\\n                         ...  61ED6D289B34165   \n",
       "3        This is a side of hip hop that needs more expo...  9FB47600CF3E273   \n",
       "4        Super intelligent discussions etc about a broa...  D94D81A696EE91B   \n",
       "...                                                    ...              ...   \n",
       "2041748         I love this but can u do fav crime PLZ 🥺🙏🏼  F460771CCF036E4   \n",
       "2041749  Lovely!, it kinda sound sad to me but over all...  ABBA758F55A4124   \n",
       "2041750               Your Olivia Rodrigo are really good.  3AE7C274696E9E3   \n",
       "2041751  Do favorite crime please! But although I love ...  46EB6E624033FE9   \n",
       "2041752                     Thank u for putting this here!  5E65BEBB9D1890F   \n",
       "\n",
       "         rating category  \n",
       "0           5.0     arts  \n",
       "1           5.0     arts  \n",
       "2           5.0     arts  \n",
       "3           5.0     arts  \n",
       "4           5.0     arts  \n",
       "...         ...      ...  \n",
       "2041748     5.0     arts  \n",
       "2041749     5.0     arts  \n",
       "2041750     5.0     arts  \n",
       "2041751     5.0     arts  \n",
       "2041752     5.0     arts  \n",
       "\n",
       "[2041753 rows x 5 columns]"
      ]
     },
     "execution_count": 11,
     "metadata": {},
     "output_type": "execute_result"
    }
   ],
   "source": [
    "rating_query = \"\"\"\n",
    "        SELECT p.title as podcast_name,\n",
    "               r.content as review_content,\n",
    "               r.author_id as reviewer,\n",
    "               AVG(r.rating) as rating,\n",
    "               GROUP_CONCAT(c.category) as categories\n",
    "        FROM podcasts p \n",
    "        JOIN reviews r \n",
    "        ON p.podcast_id = r.podcast_id\n",
    "        JOIN categories c\n",
    "        ON c.podcast_id = p.podcast_id\n",
    "        GROUP BY p.title, r.title, r.content\n",
    "        \"\"\"\n",
    "\n",
    "main_ratings_df = query_to_df(rating_query)\n",
    "\n",
    "main_ratings_df[\"supercategory\"] = main_ratings_df[\"categories\"].apply(\n",
    "    extract_supercategory\n",
    ")\n",
    "main_ratings_df[\"supercategory\"] = main_ratings_df[\"supercategory\"].apply(grouping)\n",
    "del main_ratings_df[\"categories\"]\n",
    "main_ratings_df = main_ratings_df.rename(columns={\"supercategory\": \"category\"})\n",
    "main_ratings_df"
   ]
  },
  {
   "cell_type": "markdown",
   "id": "8e7b5020-716b-43c8-9e72-edb324da6b21",
   "metadata": {},
   "source": [
    "*** \n",
    "__save main_ratings_df for later use__"
   ]
  },
  {
   "cell_type": "code",
   "execution_count": 12,
   "id": "a7df7090d07c28b7",
   "metadata": {
    "ExecuteTime": {
     "end_time": "2024-03-18T23:54:01.955450Z",
     "start_time": "2024-03-18T23:53:58.254030Z"
    },
    "collapsed": false,
    "jupyter": {
     "outputs_hidden": false
    }
   },
   "outputs": [],
   "source": [
    "# save for later use\n",
    "main_ratings_df.to_parquet(\"./data/main_ratings_df.parquet\", engine=\"pyarrow\")"
   ]
  },
  {
   "cell_type": "code",
   "execution_count": 13,
   "id": "e3acbc2553815e7b",
   "metadata": {
    "ExecuteTime": {
     "end_time": "2024-03-18T23:54:14.191748Z",
     "start_time": "2024-03-18T23:54:09.978155Z"
    },
    "collapsed": false,
    "jupyter": {
     "outputs_hidden": false
    }
   },
   "outputs": [
    {
     "data": {
      "text/html": [
       "<div>\n",
       "<style scoped>\n",
       "    .dataframe tbody tr th:only-of-type {\n",
       "        vertical-align: middle;\n",
       "    }\n",
       "\n",
       "    .dataframe tbody tr th {\n",
       "        vertical-align: top;\n",
       "    }\n",
       "\n",
       "    .dataframe thead th {\n",
       "        text-align: right;\n",
       "    }\n",
       "</style>\n",
       "<table border=\"1\" class=\"dataframe\">\n",
       "  <thead>\n",
       "    <tr style=\"text-align: right;\">\n",
       "      <th></th>\n",
       "      <th>podcast_name</th>\n",
       "      <th>review_content</th>\n",
       "      <th>reviewer</th>\n",
       "      <th>rating</th>\n",
       "      <th>category</th>\n",
       "    </tr>\n",
       "  </thead>\n",
       "  <tbody>\n",
       "    <tr>\n",
       "      <th>0</th>\n",
       "      <td>! Weird Rap Podcast !</td>\n",
       "      <td>It’s my podcast, so probably not the most obje...</td>\n",
       "      <td>199C3835F333D11</td>\n",
       "      <td>5.0</td>\n",
       "      <td>arts</td>\n",
       "    </tr>\n",
       "    <tr>\n",
       "      <th>1</th>\n",
       "      <td>! Weird Rap Podcast !</td>\n",
       "      <td>In 1999 I listened to Livin’ Astro on repeat u...</td>\n",
       "      <td>61ED6D289B34165</td>\n",
       "      <td>5.0</td>\n",
       "      <td>arts</td>\n",
       "    </tr>\n",
       "    <tr>\n",
       "      <th>2</th>\n",
       "      <td>! Weird Rap Podcast !</td>\n",
       "      <td>CHOKING VICTIM. 🕯\\n\\n                         ...</td>\n",
       "      <td>61ED6D289B34165</td>\n",
       "      <td>5.0</td>\n",
       "      <td>arts</td>\n",
       "    </tr>\n",
       "    <tr>\n",
       "      <th>3</th>\n",
       "      <td>! Weird Rap Podcast !</td>\n",
       "      <td>This is a side of hip hop that needs more expo...</td>\n",
       "      <td>9FB47600CF3E273</td>\n",
       "      <td>5.0</td>\n",
       "      <td>arts</td>\n",
       "    </tr>\n",
       "    <tr>\n",
       "      <th>4</th>\n",
       "      <td>! Weird Rap Podcast !</td>\n",
       "      <td>Super intelligent discussions etc about a broa...</td>\n",
       "      <td>D94D81A696EE91B</td>\n",
       "      <td>5.0</td>\n",
       "      <td>arts</td>\n",
       "    </tr>\n",
       "    <tr>\n",
       "      <th>...</th>\n",
       "      <td>...</td>\n",
       "      <td>...</td>\n",
       "      <td>...</td>\n",
       "      <td>...</td>\n",
       "      <td>...</td>\n",
       "    </tr>\n",
       "    <tr>\n",
       "      <th>2041748</th>\n",
       "      <td>𝑠𝑘𝑦 𝑜𝑓 𝑓𝑒𝑒𝑙𝑖𝑛𝑔𝑠 🧃</td>\n",
       "      <td>I love this but can u do fav crime PLZ 🥺🙏🏼</td>\n",
       "      <td>F460771CCF036E4</td>\n",
       "      <td>5.0</td>\n",
       "      <td>arts</td>\n",
       "    </tr>\n",
       "    <tr>\n",
       "      <th>2041749</th>\n",
       "      <td>𝑠𝑘𝑦 𝑜𝑓 𝑓𝑒𝑒𝑙𝑖𝑛𝑔𝑠 🧃</td>\n",
       "      <td>Lovely!, it kinda sound sad to me but over all...</td>\n",
       "      <td>ABBA758F55A4124</td>\n",
       "      <td>5.0</td>\n",
       "      <td>arts</td>\n",
       "    </tr>\n",
       "    <tr>\n",
       "      <th>2041750</th>\n",
       "      <td>𝑠𝑘𝑦 𝑜𝑓 𝑓𝑒𝑒𝑙𝑖𝑛𝑔𝑠 🧃</td>\n",
       "      <td>Your Olivia Rodrigo are really good.</td>\n",
       "      <td>3AE7C274696E9E3</td>\n",
       "      <td>5.0</td>\n",
       "      <td>arts</td>\n",
       "    </tr>\n",
       "    <tr>\n",
       "      <th>2041751</th>\n",
       "      <td>𝑠𝑘𝑦 𝑜𝑓 𝑓𝑒𝑒𝑙𝑖𝑛𝑔𝑠 🧃</td>\n",
       "      <td>Do favorite crime please! But although I love ...</td>\n",
       "      <td>46EB6E624033FE9</td>\n",
       "      <td>5.0</td>\n",
       "      <td>arts</td>\n",
       "    </tr>\n",
       "    <tr>\n",
       "      <th>2041752</th>\n",
       "      <td>𝑠𝑘𝑦 𝑜𝑓 𝑓𝑒𝑒𝑙𝑖𝑛𝑔𝑠 🧃</td>\n",
       "      <td>Thank u for putting this here!</td>\n",
       "      <td>5E65BEBB9D1890F</td>\n",
       "      <td>5.0</td>\n",
       "      <td>arts</td>\n",
       "    </tr>\n",
       "  </tbody>\n",
       "</table>\n",
       "<p>2041753 rows × 5 columns</p>\n",
       "</div>"
      ],
      "text/plain": [
       "                  podcast_name  \\\n",
       "0        ! Weird Rap Podcast !   \n",
       "1        ! Weird Rap Podcast !   \n",
       "2        ! Weird Rap Podcast !   \n",
       "3        ! Weird Rap Podcast !   \n",
       "4        ! Weird Rap Podcast !   \n",
       "...                        ...   \n",
       "2041748      𝑠𝑘𝑦 𝑜𝑓 𝑓𝑒𝑒𝑙𝑖𝑛𝑔𝑠 🧃   \n",
       "2041749      𝑠𝑘𝑦 𝑜𝑓 𝑓𝑒𝑒𝑙𝑖𝑛𝑔𝑠 🧃   \n",
       "2041750      𝑠𝑘𝑦 𝑜𝑓 𝑓𝑒𝑒𝑙𝑖𝑛𝑔𝑠 🧃   \n",
       "2041751      𝑠𝑘𝑦 𝑜𝑓 𝑓𝑒𝑒𝑙𝑖𝑛𝑔𝑠 🧃   \n",
       "2041752      𝑠𝑘𝑦 𝑜𝑓 𝑓𝑒𝑒𝑙𝑖𝑛𝑔𝑠 🧃   \n",
       "\n",
       "                                            review_content         reviewer  \\\n",
       "0        It’s my podcast, so probably not the most obje...  199C3835F333D11   \n",
       "1        In 1999 I listened to Livin’ Astro on repeat u...  61ED6D289B34165   \n",
       "2        CHOKING VICTIM. 🕯\\n\\n                         ...  61ED6D289B34165   \n",
       "3        This is a side of hip hop that needs more expo...  9FB47600CF3E273   \n",
       "4        Super intelligent discussions etc about a broa...  D94D81A696EE91B   \n",
       "...                                                    ...              ...   \n",
       "2041748         I love this but can u do fav crime PLZ 🥺🙏🏼  F460771CCF036E4   \n",
       "2041749  Lovely!, it kinda sound sad to me but over all...  ABBA758F55A4124   \n",
       "2041750               Your Olivia Rodrigo are really good.  3AE7C274696E9E3   \n",
       "2041751  Do favorite crime please! But although I love ...  46EB6E624033FE9   \n",
       "2041752                     Thank u for putting this here!  5E65BEBB9D1890F   \n",
       "\n",
       "         rating category  \n",
       "0           5.0     arts  \n",
       "1           5.0     arts  \n",
       "2           5.0     arts  \n",
       "3           5.0     arts  \n",
       "4           5.0     arts  \n",
       "...         ...      ...  \n",
       "2041748     5.0     arts  \n",
       "2041749     5.0     arts  \n",
       "2041750     5.0     arts  \n",
       "2041751     5.0     arts  \n",
       "2041752     5.0     arts  \n",
       "\n",
       "[2041753 rows x 5 columns]"
      ]
     },
     "execution_count": 13,
     "metadata": {},
     "output_type": "execute_result"
    }
   ],
   "source": [
    "# can load in dataframe if needed\n",
    "main_ratings_df = pd.read_parquet(\"./data/main_ratings_df.parquet\", engine=\"pyarrow\")\n",
    "main_ratings_df"
   ]
  },
  {
   "cell_type": "markdown",
   "id": "e883b154c6abd24b",
   "metadata": {
    "collapsed": false,
    "jupyter": {
     "outputs_hidden": false
    }
   },
   "source": [
    "*** \n",
    "## How are different podcast categories rated on average? <br>\n",
    "First, how are podcasts rated in general?"
   ]
  },
  {
   "cell_type": "code",
   "execution_count": 14,
   "id": "23d424afb76abc3a",
   "metadata": {
    "ExecuteTime": {
     "end_time": "2024-03-18T23:54:26.945731Z",
     "start_time": "2024-03-18T23:54:26.215102Z"
    },
    "collapsed": false,
    "jupyter": {
     "outputs_hidden": false
    }
   },
   "outputs": [
    {
     "data": {
      "image/png": "[encoded data removed]",
      "text/plain": [
       "<Figure size 1000x600 with 1 Axes>"
      ]
     },
     "metadata": {},
     "output_type": "display_data"
    }
   ],
   "source": [
    "plt.figure(figsize=(10, 6))\n",
    "\n",
    "ax = sns.histplot(data=main_ratings_df, x=\"rating\", bins=5, discrete=True)\n",
    "for container in ax.containers:\n",
    "    ax.bar_label(container, fmt=\"%d\", fontsize=10)\n",
    "\n",
    "plt.title(\"Histogram of Podcast Rating Frequency\")\n",
    "plt.ticklabel_format(style=\"plain\", axis=\"y\")\n",
    "plt.xlabel(\"Rating\")\n",
    "plt.ylabel(\"Number of Podcasts\")\n",
    "\n",
    "sns.despine(left=True, bottom=True, right=True, top=True)\n",
    "ax.xaxis.set_ticks_position(\"bottom\")\n",
    "ax.xaxis.set_tick_params(width=1, length=5)\n",
    "ax.yaxis.set_ticks_position(\"left\")\n",
    "ax.yaxis.set_tick_params(width=1, length=5)\n",
    "\n",
    "plt.show()"
   ]
  },
  {
   "cell_type": "code",
   "execution_count": 15,
   "id": "93c3778efefb3fca",
   "metadata": {
    "ExecuteTime": {
     "end_time": "2024-03-18T23:54:28.240713Z",
     "start_time": "2024-03-18T23:54:27.961374Z"
    },
    "collapsed": false,
    "jupyter": {
     "outputs_hidden": false
    }
   },
   "outputs": [
    {
     "data": {
      "text/html": [
       "<div>\n",
       "<style scoped>\n",
       "    .dataframe tbody tr th:only-of-type {\n",
       "        vertical-align: middle;\n",
       "    }\n",
       "\n",
       "    .dataframe tbody tr th {\n",
       "        vertical-align: top;\n",
       "    }\n",
       "\n",
       "    .dataframe thead tr th {\n",
       "        text-align: left;\n",
       "    }\n",
       "\n",
       "    .dataframe thead tr:last-of-type th {\n",
       "        text-align: right;\n",
       "    }\n",
       "</style>\n",
       "<table border=\"1\" class=\"dataframe\">\n",
       "  <thead>\n",
       "    <tr>\n",
       "      <th></th>\n",
       "      <th colspan=\"8\" halign=\"left\">rating</th>\n",
       "    </tr>\n",
       "    <tr>\n",
       "      <th></th>\n",
       "      <th>count</th>\n",
       "      <th>mean</th>\n",
       "      <th>std</th>\n",
       "      <th>min</th>\n",
       "      <th>25%</th>\n",
       "      <th>50%</th>\n",
       "      <th>75%</th>\n",
       "      <th>max</th>\n",
       "    </tr>\n",
       "    <tr>\n",
       "      <th>category</th>\n",
       "      <th></th>\n",
       "      <th></th>\n",
       "      <th></th>\n",
       "      <th></th>\n",
       "      <th></th>\n",
       "      <th></th>\n",
       "      <th></th>\n",
       "      <th></th>\n",
       "    </tr>\n",
       "  </thead>\n",
       "  <tbody>\n",
       "    <tr>\n",
       "      <th>arts</th>\n",
       "      <td>273566.0</td>\n",
       "      <td>4.688119</td>\n",
       "      <td>0.944416</td>\n",
       "      <td>1.0</td>\n",
       "      <td>5.0</td>\n",
       "      <td>5.0</td>\n",
       "      <td>5.0</td>\n",
       "      <td>5.0</td>\n",
       "    </tr>\n",
       "    <tr>\n",
       "      <th>business</th>\n",
       "      <td>217548.0</td>\n",
       "      <td>4.844347</td>\n",
       "      <td>0.691772</td>\n",
       "      <td>1.0</td>\n",
       "      <td>5.0</td>\n",
       "      <td>5.0</td>\n",
       "      <td>5.0</td>\n",
       "      <td>5.0</td>\n",
       "    </tr>\n",
       "    <tr>\n",
       "      <th>comedy</th>\n",
       "      <td>330270.0</td>\n",
       "      <td>4.623074</td>\n",
       "      <td>1.067486</td>\n",
       "      <td>1.0</td>\n",
       "      <td>5.0</td>\n",
       "      <td>5.0</td>\n",
       "      <td>5.0</td>\n",
       "      <td>5.0</td>\n",
       "    </tr>\n",
       "    <tr>\n",
       "      <th>education</th>\n",
       "      <td>151296.0</td>\n",
       "      <td>4.811187</td>\n",
       "      <td>0.744992</td>\n",
       "      <td>1.0</td>\n",
       "      <td>5.0</td>\n",
       "      <td>5.0</td>\n",
       "      <td>5.0</td>\n",
       "      <td>5.0</td>\n",
       "    </tr>\n",
       "    <tr>\n",
       "      <th>fiction</th>\n",
       "      <td>26217.0</td>\n",
       "      <td>4.557463</td>\n",
       "      <td>1.084992</td>\n",
       "      <td>1.0</td>\n",
       "      <td>5.0</td>\n",
       "      <td>5.0</td>\n",
       "      <td>5.0</td>\n",
       "      <td>5.0</td>\n",
       "    </tr>\n",
       "    <tr>\n",
       "      <th>health</th>\n",
       "      <td>123133.0</td>\n",
       "      <td>4.813165</td>\n",
       "      <td>0.746229</td>\n",
       "      <td>1.0</td>\n",
       "      <td>5.0</td>\n",
       "      <td>5.0</td>\n",
       "      <td>5.0</td>\n",
       "      <td>5.0</td>\n",
       "    </tr>\n",
       "    <tr>\n",
       "      <th>history</th>\n",
       "      <td>46960.0</td>\n",
       "      <td>4.465247</td>\n",
       "      <td>1.197178</td>\n",
       "      <td>1.0</td>\n",
       "      <td>5.0</td>\n",
       "      <td>5.0</td>\n",
       "      <td>5.0</td>\n",
       "      <td>5.0</td>\n",
       "    </tr>\n",
       "    <tr>\n",
       "      <th>kids</th>\n",
       "      <td>51863.0</td>\n",
       "      <td>4.690868</td>\n",
       "      <td>0.937029</td>\n",
       "      <td>1.0</td>\n",
       "      <td>5.0</td>\n",
       "      <td>5.0</td>\n",
       "      <td>5.0</td>\n",
       "      <td>5.0</td>\n",
       "    </tr>\n",
       "    <tr>\n",
       "      <th>leisure</th>\n",
       "      <td>76428.0</td>\n",
       "      <td>4.740645</td>\n",
       "      <td>0.867073</td>\n",
       "      <td>1.0</td>\n",
       "      <td>5.0</td>\n",
       "      <td>5.0</td>\n",
       "      <td>5.0</td>\n",
       "      <td>5.0</td>\n",
       "    </tr>\n",
       "    <tr>\n",
       "      <th>news-government</th>\n",
       "      <td>159788.0</td>\n",
       "      <td>4.253905</td>\n",
       "      <td>1.413146</td>\n",
       "      <td>1.0</td>\n",
       "      <td>4.0</td>\n",
       "      <td>5.0</td>\n",
       "      <td>5.0</td>\n",
       "      <td>5.0</td>\n",
       "    </tr>\n",
       "    <tr>\n",
       "      <th>science-technology</th>\n",
       "      <td>39266.0</td>\n",
       "      <td>4.470271</td>\n",
       "      <td>1.203290</td>\n",
       "      <td>1.0</td>\n",
       "      <td>5.0</td>\n",
       "      <td>5.0</td>\n",
       "      <td>5.0</td>\n",
       "      <td>5.0</td>\n",
       "    </tr>\n",
       "    <tr>\n",
       "      <th>society-culture</th>\n",
       "      <td>211212.0</td>\n",
       "      <td>4.438588</td>\n",
       "      <td>1.250794</td>\n",
       "      <td>1.0</td>\n",
       "      <td>5.0</td>\n",
       "      <td>5.0</td>\n",
       "      <td>5.0</td>\n",
       "      <td>5.0</td>\n",
       "    </tr>\n",
       "    <tr>\n",
       "      <th>spirituality</th>\n",
       "      <td>116087.0</td>\n",
       "      <td>4.817387</td>\n",
       "      <td>0.753732</td>\n",
       "      <td>1.0</td>\n",
       "      <td>5.0</td>\n",
       "      <td>5.0</td>\n",
       "      <td>5.0</td>\n",
       "      <td>5.0</td>\n",
       "    </tr>\n",
       "    <tr>\n",
       "      <th>sports</th>\n",
       "      <td>144857.0</td>\n",
       "      <td>4.611707</td>\n",
       "      <td>1.074105</td>\n",
       "      <td>1.0</td>\n",
       "      <td>5.0</td>\n",
       "      <td>5.0</td>\n",
       "      <td>5.0</td>\n",
       "      <td>5.0</td>\n",
       "    </tr>\n",
       "    <tr>\n",
       "      <th>true-crime</th>\n",
       "      <td>73262.0</td>\n",
       "      <td>4.219514</td>\n",
       "      <td>1.408807</td>\n",
       "      <td>1.0</td>\n",
       "      <td>4.0</td>\n",
       "      <td>5.0</td>\n",
       "      <td>5.0</td>\n",
       "      <td>5.0</td>\n",
       "    </tr>\n",
       "  </tbody>\n",
       "</table>\n",
       "</div>"
      ],
      "text/plain": [
       "                      rating                                             \n",
       "                       count      mean       std  min  25%  50%  75%  max\n",
       "category                                                                 \n",
       "arts                273566.0  4.688119  0.944416  1.0  5.0  5.0  5.0  5.0\n",
       "business            217548.0  4.844347  0.691772  1.0  5.0  5.0  5.0  5.0\n",
       "comedy              330270.0  4.623074  1.067486  1.0  5.0  5.0  5.0  5.0\n",
       "education           151296.0  4.811187  0.744992  1.0  5.0  5.0  5.0  5.0\n",
       "fiction              26217.0  4.557463  1.084992  1.0  5.0  5.0  5.0  5.0\n",
       "health              123133.0  4.813165  0.746229  1.0  5.0  5.0  5.0  5.0\n",
       "history              46960.0  4.465247  1.197178  1.0  5.0  5.0  5.0  5.0\n",
       "kids                 51863.0  4.690868  0.937029  1.0  5.0  5.0  5.0  5.0\n",
       "leisure              76428.0  4.740645  0.867073  1.0  5.0  5.0  5.0  5.0\n",
       "news-government     159788.0  4.253905  1.413146  1.0  4.0  5.0  5.0  5.0\n",
       "science-technology   39266.0  4.470271  1.203290  1.0  5.0  5.0  5.0  5.0\n",
       "society-culture     211212.0  4.438588  1.250794  1.0  5.0  5.0  5.0  5.0\n",
       "spirituality        116087.0  4.817387  0.753732  1.0  5.0  5.0  5.0  5.0\n",
       "sports              144857.0  4.611707  1.074105  1.0  5.0  5.0  5.0  5.0\n",
       "true-crime           73262.0  4.219514  1.408807  1.0  4.0  5.0  5.0  5.0"
      ]
     },
     "execution_count": 15,
     "metadata": {},
     "output_type": "execute_result"
    }
   ],
   "source": [
    "ratings_descrip_stats = (\n",
    "    main_ratings_df[[\"category\", \"rating\"]].groupby(\"category\").describe()\n",
    ")\n",
    "ratings_descrip_stats"
   ]
  },
  {
   "cell_type": "code",
   "execution_count": 16,
   "id": "900f41171471f8a2",
   "metadata": {
    "ExecuteTime": {
     "end_time": "2024-03-18T23:54:29.341678Z",
     "start_time": "2024-03-18T23:54:29.317580Z"
    },
    "collapsed": false,
    "jupyter": {
     "outputs_hidden": false
    }
   },
   "outputs": [],
   "source": [
    "category_ratings = main_ratings_df[[\"category\", \"rating\"]]"
   ]
  },
  {
   "cell_type": "code",
   "execution_count": 17,
   "id": "2d787d62-c462-4584-8c20-42c8c14fb9e6",
   "metadata": {
    "ExecuteTime": {
     "end_time": "2024-03-18T23:54:31.606474Z",
     "start_time": "2024-03-18T23:54:30.769916Z"
    }
   },
   "outputs": [
    {
     "data": {
      "image/png": "[encoded data removed]",
      "text/plain": [
       "<Figure size 1000x600 with 1 Axes>"
      ]
     },
     "metadata": {},
     "output_type": "display_data"
    }
   ],
   "source": [
    "category_counts = category_ratings.groupby(\"category\").value_counts().reset_index()\n",
    "ax = sns.boxplot(data=category_counts, x=\"rating\", y=\"count\")\n",
    "ax.set_xlabel(\"Podcast Rating\")\n",
    "ax.set_ylabel(\"Number of Podcasts\")\n",
    "plt.suptitle(\"\")\n",
    "plt.title(\"Distribution of Podcast Ratings Across Different Categories\")\n",
    "\n",
    "sns.despine(left=True, bottom=True, right=True, top=True)\n",
    "ax.xaxis.set_ticks_position(\"bottom\")\n",
    "ax.xaxis.set_tick_params(width=1, length=5)\n",
    "ax.yaxis.set_ticks_position(\"left\")\n",
    "ax.yaxis.set_tick_params(width=1, length=5)\n",
    "\n",
    "plt.tight_layout()\n",
    "plt.show()"
   ]
  },
  {
   "cell_type": "code",
   "execution_count": 18,
   "id": "6041bf35204725fb",
   "metadata": {
    "ExecuteTime": {
     "end_time": "2024-03-18T23:54:42.365698Z",
     "start_time": "2024-03-18T23:54:34.593937Z"
    },
    "collapsed": false,
    "jupyter": {
     "outputs_hidden": false
    }
   },
   "outputs": [
    {
     "data": {
      "image/png": "[encoded data removed]",
      "text/plain": [
       "<Figure size 1112.22x550 with 1 Axes>"
      ]
     },
     "metadata": {},
     "output_type": "display_data"
    }
   ],
   "source": [
    "sns.catplot(\n",
    "    data=category_ratings, x=\"rating\", y=\"category\", kind=\"violin\", height=5.5, aspect=2\n",
    ")\n",
    "\n",
    "plt.title(\"Distribution of Podcast Ratings by Category\")\n",
    "plt.xlabel(\"Rating\")\n",
    "plt.ylabel(\"\")\n",
    "\n",
    "sns.despine(left=False, bottom=False, right=True, top=True)\n",
    "\n",
    "plt.show()"
   ]
  },
  {
   "cell_type": "code",
   "execution_count": 80,
   "id": "cd00c1855047aabe",
   "metadata": {
    "ExecuteTime": {
     "end_time": "2024-03-18T23:55:03.975759Z",
     "start_time": "2024-03-18T23:54:43.320629Z"
    },
    "collapsed": false,
    "jupyter": {
     "outputs_hidden": false
    }
   },
   "outputs": [
    {
     "data": {
      "image/png": "[encoded data removed]",
      "text/plain": [
       "<Figure size 1000x600 with 1 Axes>"
      ]
     },
     "metadata": {},
     "output_type": "display_data"
    }
   ],
   "source": [
    "ax = sns.barplot(data=category_ratings, x=\"rating\", y=\"category\")\n",
    "plt.title(\"Average Rating of Podcast by Category\")\n",
    "plt.xlabel(\"Rating\")\n",
    "plt.ylabel(\"\")\n",
    "\n",
    "sns.despine(left=True, bottom=True, right=True, top=True)\n",
    "ax.xaxis.set_ticks_position(\"bottom\")\n",
    "ax.xaxis.set_tick_params(width=1, length=5)\n",
    "ax.yaxis.set_ticks_position(\"left\")\n",
    "ax.yaxis.set_tick_params(width=1, length=5)\n",
    "\n",
    "plt.show()"
   ]
  },
  {
   "cell_type": "markdown",
   "id": "aec3f0e2-8e45-4a49-b111-2355520de231",
   "metadata": {},
   "source": [
    "__interim summary__:\n",
    "- In general, 5-star ratings predominate the charts across all categories\n",
    "- There is some variability across categories, but generally speaking most ratings are 5 star\n",
    "- There is more 1-star ratings than 2, 3, or 4\n",
    "- true-crime is the worst rated whereas business is the best rated"
   ]
  },
  {
   "cell_type": "markdown",
   "id": "fd13b8e67cfe2c3a",
   "metadata": {
    "collapsed": false,
    "jupyter": {
     "outputs_hidden": false
    }
   },
   "source": [
    "*** \n",
    "__Case Study: Compare podcasts about the Arts to podcasts about the News & Government__<br>\n",
    "Compare the population mean difference between two independent populations of podcasts ratings using the sample that we have collected. \n",
    "\n",
    "The target populations are as follows\n",
    "\n",
    "_Population 1_: podcast ratings of all Arts podcasts <br>\n",
    "_Population 2_: podcast ratings of all News & Government podcasts\n",
    "\n",
    "Performing a descriptive analysis of the sample mean ratings to hypothesize about the population mean difference. \n",
    "\n",
    "I believe that Arts podcasts will have higher mean ratings than News & Government podcasts. Yet, to assess this question I will perform a two-tailed test to be conservative. \n",
    "\n",
    "$H_{0}$: Mean Arts Podcast Rating = Mean News & Government Podcast Rating <br>\n",
    "$H_{a}$: Mean Arts Podcast Rating $\\neq$ Mean News & Government Podcast Rating\n",
    "\n",
    "stated another way:<br> \n",
    "$H_{0}$: Mean Rating Difference = 0 (no difference) <br>\n",
    "$H_{a}$: Mean Rating Difference $\\neq$ 0 (some difference)\n",
    "\n",
    "Parameter of Interest:$\\mu_{1}$ - $\\mu_{2}$\n",
    "\n",
    "$\\alpha$-level: 0.05\n",
    "\n",
    "The assumptions to compare two population means:\n",
    "- 2 simple random samples (NOT LIKELY since reviewers are self-selecting, but we can assume this for the sake of demonstration)\n",
    "- samples independent of one another (POTENTIALLY TRUE, I labelled these categories independently of one another. However, I will need to filter out reviewers who are in both categories.)\n",
    "- from normally distributed populations (NOT LIKELY, but we will investigate that, and we can use resampling methods to compare further) \n",
    "- Are variances equal? \n",
    "\n",
    "Plan is to generate a confidence interval as well as to perform a hypothesis test (i.e. A/B test). "
   ]
  },
  {
   "cell_type": "code",
   "execution_count": 20,
   "id": "31938756e776dbcd",
   "metadata": {
    "ExecuteTime": {
     "end_time": "2024-03-18T23:55:07.222004Z",
     "start_time": "2024-03-18T23:55:06.920236Z"
    },
    "collapsed": false,
    "jupyter": {
     "outputs_hidden": false
    }
   },
   "outputs": [
    {
     "data": {
      "text/html": [
       "<div>\n",
       "<style scoped>\n",
       "    .dataframe tbody tr th:only-of-type {\n",
       "        vertical-align: middle;\n",
       "    }\n",
       "\n",
       "    .dataframe tbody tr th {\n",
       "        vertical-align: top;\n",
       "    }\n",
       "\n",
       "    .dataframe thead th {\n",
       "        text-align: right;\n",
       "    }\n",
       "</style>\n",
       "<table border=\"1\" class=\"dataframe\">\n",
       "  <thead>\n",
       "    <tr style=\"text-align: right;\">\n",
       "      <th></th>\n",
       "      <th>podcast_name</th>\n",
       "      <th>review_content</th>\n",
       "      <th>reviewer</th>\n",
       "      <th>rating</th>\n",
       "      <th>category</th>\n",
       "    </tr>\n",
       "  </thead>\n",
       "  <tbody>\n",
       "    <tr>\n",
       "      <th>0</th>\n",
       "      <td>! Weird Rap Podcast !</td>\n",
       "      <td>It’s my podcast, so probably not the most obje...</td>\n",
       "      <td>199C3835F333D11</td>\n",
       "      <td>5.0</td>\n",
       "      <td>arts</td>\n",
       "    </tr>\n",
       "    <tr>\n",
       "      <th>1</th>\n",
       "      <td>! Weird Rap Podcast !</td>\n",
       "      <td>In 1999 I listened to Livin’ Astro on repeat u...</td>\n",
       "      <td>61ED6D289B34165</td>\n",
       "      <td>5.0</td>\n",
       "      <td>arts</td>\n",
       "    </tr>\n",
       "    <tr>\n",
       "      <th>2</th>\n",
       "      <td>! Weird Rap Podcast !</td>\n",
       "      <td>CHOKING VICTIM. 🕯\\n\\n                         ...</td>\n",
       "      <td>61ED6D289B34165</td>\n",
       "      <td>5.0</td>\n",
       "      <td>arts</td>\n",
       "    </tr>\n",
       "    <tr>\n",
       "      <th>3</th>\n",
       "      <td>! Weird Rap Podcast !</td>\n",
       "      <td>This is a side of hip hop that needs more expo...</td>\n",
       "      <td>9FB47600CF3E273</td>\n",
       "      <td>5.0</td>\n",
       "      <td>arts</td>\n",
       "    </tr>\n",
       "    <tr>\n",
       "      <th>4</th>\n",
       "      <td>! Weird Rap Podcast !</td>\n",
       "      <td>Super intelligent discussions etc about a broa...</td>\n",
       "      <td>D94D81A696EE91B</td>\n",
       "      <td>5.0</td>\n",
       "      <td>arts</td>\n",
       "    </tr>\n",
       "    <tr>\n",
       "      <th>...</th>\n",
       "      <td>...</td>\n",
       "      <td>...</td>\n",
       "      <td>...</td>\n",
       "      <td>...</td>\n",
       "      <td>...</td>\n",
       "    </tr>\n",
       "    <tr>\n",
       "      <th>2041748</th>\n",
       "      <td>𝑠𝑘𝑦 𝑜𝑓 𝑓𝑒𝑒𝑙𝑖𝑛𝑔𝑠 🧃</td>\n",
       "      <td>I love this but can u do fav crime PLZ 🥺🙏🏼</td>\n",
       "      <td>F460771CCF036E4</td>\n",
       "      <td>5.0</td>\n",
       "      <td>arts</td>\n",
       "    </tr>\n",
       "    <tr>\n",
       "      <th>2041749</th>\n",
       "      <td>𝑠𝑘𝑦 𝑜𝑓 𝑓𝑒𝑒𝑙𝑖𝑛𝑔𝑠 🧃</td>\n",
       "      <td>Lovely!, it kinda sound sad to me but over all...</td>\n",
       "      <td>ABBA758F55A4124</td>\n",
       "      <td>5.0</td>\n",
       "      <td>arts</td>\n",
       "    </tr>\n",
       "    <tr>\n",
       "      <th>2041750</th>\n",
       "      <td>𝑠𝑘𝑦 𝑜𝑓 𝑓𝑒𝑒𝑙𝑖𝑛𝑔𝑠 🧃</td>\n",
       "      <td>Your Olivia Rodrigo are really good.</td>\n",
       "      <td>3AE7C274696E9E3</td>\n",
       "      <td>5.0</td>\n",
       "      <td>arts</td>\n",
       "    </tr>\n",
       "    <tr>\n",
       "      <th>2041751</th>\n",
       "      <td>𝑠𝑘𝑦 𝑜𝑓 𝑓𝑒𝑒𝑙𝑖𝑛𝑔𝑠 🧃</td>\n",
       "      <td>Do favorite crime please! But although I love ...</td>\n",
       "      <td>46EB6E624033FE9</td>\n",
       "      <td>5.0</td>\n",
       "      <td>arts</td>\n",
       "    </tr>\n",
       "    <tr>\n",
       "      <th>2041752</th>\n",
       "      <td>𝑠𝑘𝑦 𝑜𝑓 𝑓𝑒𝑒𝑙𝑖𝑛𝑔𝑠 🧃</td>\n",
       "      <td>Thank u for putting this here!</td>\n",
       "      <td>5E65BEBB9D1890F</td>\n",
       "      <td>5.0</td>\n",
       "      <td>arts</td>\n",
       "    </tr>\n",
       "  </tbody>\n",
       "</table>\n",
       "<p>433354 rows × 5 columns</p>\n",
       "</div>"
      ],
      "text/plain": [
       "                  podcast_name  \\\n",
       "0        ! Weird Rap Podcast !   \n",
       "1        ! Weird Rap Podcast !   \n",
       "2        ! Weird Rap Podcast !   \n",
       "3        ! Weird Rap Podcast !   \n",
       "4        ! Weird Rap Podcast !   \n",
       "...                        ...   \n",
       "2041748      𝑠𝑘𝑦 𝑜𝑓 𝑓𝑒𝑒𝑙𝑖𝑛𝑔𝑠 🧃   \n",
       "2041749      𝑠𝑘𝑦 𝑜𝑓 𝑓𝑒𝑒𝑙𝑖𝑛𝑔𝑠 🧃   \n",
       "2041750      𝑠𝑘𝑦 𝑜𝑓 𝑓𝑒𝑒𝑙𝑖𝑛𝑔𝑠 🧃   \n",
       "2041751      𝑠𝑘𝑦 𝑜𝑓 𝑓𝑒𝑒𝑙𝑖𝑛𝑔𝑠 🧃   \n",
       "2041752      𝑠𝑘𝑦 𝑜𝑓 𝑓𝑒𝑒𝑙𝑖𝑛𝑔𝑠 🧃   \n",
       "\n",
       "                                            review_content         reviewer  \\\n",
       "0        It’s my podcast, so probably not the most obje...  199C3835F333D11   \n",
       "1        In 1999 I listened to Livin’ Astro on repeat u...  61ED6D289B34165   \n",
       "2        CHOKING VICTIM. 🕯\\n\\n                         ...  61ED6D289B34165   \n",
       "3        This is a side of hip hop that needs more expo...  9FB47600CF3E273   \n",
       "4        Super intelligent discussions etc about a broa...  D94D81A696EE91B   \n",
       "...                                                    ...              ...   \n",
       "2041748         I love this but can u do fav crime PLZ 🥺🙏🏼  F460771CCF036E4   \n",
       "2041749  Lovely!, it kinda sound sad to me but over all...  ABBA758F55A4124   \n",
       "2041750               Your Olivia Rodrigo are really good.  3AE7C274696E9E3   \n",
       "2041751  Do favorite crime please! But although I love ...  46EB6E624033FE9   \n",
       "2041752                     Thank u for putting this here!  5E65BEBB9D1890F   \n",
       "\n",
       "         rating category  \n",
       "0           5.0     arts  \n",
       "1           5.0     arts  \n",
       "2           5.0     arts  \n",
       "3           5.0     arts  \n",
       "4           5.0     arts  \n",
       "...         ...      ...  \n",
       "2041748     5.0     arts  \n",
       "2041749     5.0     arts  \n",
       "2041750     5.0     arts  \n",
       "2041751     5.0     arts  \n",
       "2041752     5.0     arts  \n",
       "\n",
       "[433354 rows x 5 columns]"
      ]
     },
     "execution_count": 20,
     "metadata": {},
     "output_type": "execute_result"
    }
   ],
   "source": [
    "arts_news_ratings = main_ratings_df[\n",
    "    (main_ratings_df[\"category\"] == \"arts\")\n",
    "    | (main_ratings_df[\"category\"] == \"news-government\")\n",
    "]\n",
    "arts_news_ratings"
   ]
  },
  {
   "cell_type": "code",
   "execution_count": 21,
   "id": "4035fe02-588e-4af5-ad82-f87a62dc4d5f",
   "metadata": {
    "ExecuteTime": {
     "end_time": "2024-03-18T23:55:11.255891Z",
     "start_time": "2024-03-18T23:55:10.216536Z"
    }
   },
   "outputs": [
    {
     "data": {
      "text/html": [
       "<div>\n",
       "<style scoped>\n",
       "    .dataframe tbody tr th:only-of-type {\n",
       "        vertical-align: middle;\n",
       "    }\n",
       "\n",
       "    .dataframe tbody tr th {\n",
       "        vertical-align: top;\n",
       "    }\n",
       "\n",
       "    .dataframe thead th {\n",
       "        text-align: right;\n",
       "    }\n",
       "</style>\n",
       "<table border=\"1\" class=\"dataframe\">\n",
       "  <thead>\n",
       "    <tr style=\"text-align: right;\">\n",
       "      <th></th>\n",
       "      <th>rating</th>\n",
       "      <th>category</th>\n",
       "    </tr>\n",
       "  </thead>\n",
       "  <tbody>\n",
       "    <tr>\n",
       "      <th>0</th>\n",
       "      <td>5.0</td>\n",
       "      <td>arts</td>\n",
       "    </tr>\n",
       "    <tr>\n",
       "      <th>3</th>\n",
       "      <td>5.0</td>\n",
       "      <td>arts</td>\n",
       "    </tr>\n",
       "    <tr>\n",
       "      <th>4</th>\n",
       "      <td>5.0</td>\n",
       "      <td>arts</td>\n",
       "    </tr>\n",
       "    <tr>\n",
       "      <th>5</th>\n",
       "      <td>5.0</td>\n",
       "      <td>arts</td>\n",
       "    </tr>\n",
       "    <tr>\n",
       "      <th>6</th>\n",
       "      <td>5.0</td>\n",
       "      <td>arts</td>\n",
       "    </tr>\n",
       "    <tr>\n",
       "      <th>...</th>\n",
       "      <td>...</td>\n",
       "      <td>...</td>\n",
       "    </tr>\n",
       "    <tr>\n",
       "      <th>2041748</th>\n",
       "      <td>5.0</td>\n",
       "      <td>arts</td>\n",
       "    </tr>\n",
       "    <tr>\n",
       "      <th>2041749</th>\n",
       "      <td>5.0</td>\n",
       "      <td>arts</td>\n",
       "    </tr>\n",
       "    <tr>\n",
       "      <th>2041750</th>\n",
       "      <td>5.0</td>\n",
       "      <td>arts</td>\n",
       "    </tr>\n",
       "    <tr>\n",
       "      <th>2041751</th>\n",
       "      <td>5.0</td>\n",
       "      <td>arts</td>\n",
       "    </tr>\n",
       "    <tr>\n",
       "      <th>2041752</th>\n",
       "      <td>5.0</td>\n",
       "      <td>arts</td>\n",
       "    </tr>\n",
       "  </tbody>\n",
       "</table>\n",
       "<p>396027 rows × 2 columns</p>\n",
       "</div>"
      ],
      "text/plain": [
       "         rating category\n",
       "0           5.0     arts\n",
       "3           5.0     arts\n",
       "4           5.0     arts\n",
       "5           5.0     arts\n",
       "6           5.0     arts\n",
       "...         ...      ...\n",
       "2041748     5.0     arts\n",
       "2041749     5.0     arts\n",
       "2041750     5.0     arts\n",
       "2041751     5.0     arts\n",
       "2041752     5.0     arts\n",
       "\n",
       "[396027 rows x 2 columns]"
      ]
     },
     "execution_count": 21,
     "metadata": {},
     "output_type": "execute_result"
    }
   ],
   "source": [
    "duplicate_reviewers = (\n",
    "    arts_news_ratings.groupby([\"reviewer\", \"category\"]).size().unstack()\n",
    ")\n",
    "duplicate_reviewers = duplicate_reviewers[\n",
    "    (duplicate_reviewers[\"arts\"] > 0) & (duplicate_reviewers[\"news-government\"] > 0)\n",
    "]\n",
    "arts_news_ratings = arts_news_ratings[\n",
    "    ~arts_news_ratings[\"reviewer\"].isin(duplicate_reviewers.index)\n",
    "]\n",
    "arts_news_ratings = arts_news_ratings.drop(\n",
    "    [\"podcast_name\", \"review_content\", \"reviewer\"], axis=1\n",
    ")\n",
    "arts_news_ratings"
   ]
  },
  {
   "cell_type": "code",
   "execution_count": 22,
   "id": "6d0b27b6affea312",
   "metadata": {
    "ExecuteTime": {
     "end_time": "2024-03-18T23:55:12.321458Z",
     "start_time": "2024-03-18T23:55:12.253886Z"
    },
    "collapsed": false,
    "jupyter": {
     "outputs_hidden": false
    }
   },
   "outputs": [
    {
     "data": {
      "text/html": [
       "<div>\n",
       "<style scoped>\n",
       "    .dataframe tbody tr th:only-of-type {\n",
       "        vertical-align: middle;\n",
       "    }\n",
       "\n",
       "    .dataframe tbody tr th {\n",
       "        vertical-align: top;\n",
       "    }\n",
       "\n",
       "    .dataframe thead tr th {\n",
       "        text-align: left;\n",
       "    }\n",
       "\n",
       "    .dataframe thead tr:last-of-type th {\n",
       "        text-align: right;\n",
       "    }\n",
       "</style>\n",
       "<table border=\"1\" class=\"dataframe\">\n",
       "  <thead>\n",
       "    <tr>\n",
       "      <th></th>\n",
       "      <th colspan=\"8\" halign=\"left\">rating</th>\n",
       "    </tr>\n",
       "    <tr>\n",
       "      <th></th>\n",
       "      <th>count</th>\n",
       "      <th>mean</th>\n",
       "      <th>std</th>\n",
       "      <th>min</th>\n",
       "      <th>25%</th>\n",
       "      <th>50%</th>\n",
       "      <th>75%</th>\n",
       "      <th>max</th>\n",
       "    </tr>\n",
       "    <tr>\n",
       "      <th>category</th>\n",
       "      <th></th>\n",
       "      <th></th>\n",
       "      <th></th>\n",
       "      <th></th>\n",
       "      <th></th>\n",
       "      <th></th>\n",
       "      <th></th>\n",
       "      <th></th>\n",
       "    </tr>\n",
       "  </thead>\n",
       "  <tbody>\n",
       "    <tr>\n",
       "      <th>arts</th>\n",
       "      <td>254339.0</td>\n",
       "      <td>4.709525</td>\n",
       "      <td>0.911657</td>\n",
       "      <td>1.0</td>\n",
       "      <td>5.0</td>\n",
       "      <td>5.0</td>\n",
       "      <td>5.0</td>\n",
       "      <td>5.0</td>\n",
       "    </tr>\n",
       "    <tr>\n",
       "      <th>news-government</th>\n",
       "      <td>141688.0</td>\n",
       "      <td>4.280906</td>\n",
       "      <td>1.393446</td>\n",
       "      <td>1.0</td>\n",
       "      <td>5.0</td>\n",
       "      <td>5.0</td>\n",
       "      <td>5.0</td>\n",
       "      <td>5.0</td>\n",
       "    </tr>\n",
       "  </tbody>\n",
       "</table>\n",
       "</div>"
      ],
      "text/plain": [
       "                   rating                                             \n",
       "                    count      mean       std  min  25%  50%  75%  max\n",
       "category                                                              \n",
       "arts             254339.0  4.709525  0.911657  1.0  5.0  5.0  5.0  5.0\n",
       "news-government  141688.0  4.280906  1.393446  1.0  5.0  5.0  5.0  5.0"
      ]
     },
     "execution_count": 22,
     "metadata": {},
     "output_type": "execute_result"
    }
   ],
   "source": [
    "arts_news_ratings.groupby(\"category\").describe()"
   ]
  },
  {
   "cell_type": "code",
   "execution_count": 23,
   "id": "ee78886925af31fe",
   "metadata": {
    "ExecuteTime": {
     "end_time": "2024-03-18T23:55:14.676893Z",
     "start_time": "2024-03-18T23:55:13.341381Z"
    },
    "collapsed": false,
    "jupyter": {
     "outputs_hidden": false
    }
   },
   "outputs": [
    {
     "data": {
      "image/png": "[encoded data removed]",
      "text/plain": [
       "<Figure size 1000x600 with 1 Axes>"
      ]
     },
     "metadata": {},
     "output_type": "display_data"
    }
   ],
   "source": [
    "plt.figure(figsize=(10, 6))\n",
    "\n",
    "ax = sns.barplot(data=arts_news_ratings, x=\"category\", y=\"rating\", errorbar=\"sd\")\n",
    "\n",
    "\n",
    "sns.despine(left=True, bottom=True, right=True, top=True)\n",
    "ax.xaxis.set_ticks_position(\"bottom\")\n",
    "ax.xaxis.set_tick_params(width=1, length=5)\n",
    "ax.yaxis.set_ticks_position(\"left\")\n",
    "ax.yaxis.set_tick_params(width=1, length=5)\n",
    "\n",
    "plt.title(\"Mean and Standard Deviation of Podcast Ratings\")\n",
    "plt.xlabel(\"\")\n",
    "plt.ylabel(\"Rating\")\n",
    "plt.ylim(0, 5)\n",
    "plt.yticks(range(6))\n",
    "\n",
    "plt.show()"
   ]
  },
  {
   "cell_type": "markdown",
   "id": "d2a37cab868d8a8a",
   "metadata": {
    "collapsed": false,
    "jupyter": {
     "outputs_hidden": false
    }
   },
   "source": [
    "It is difficult to assess whether these two populations are different from one another. So, I will first get a confidence interval for these mean differences and then I will perform my hypothesis test. "
   ]
  },
  {
   "cell_type": "code",
   "execution_count": 25,
   "id": "cb468b0f-e8ac-4369-90be-bf1b5aac162f",
   "metadata": {
    "ExecuteTime": {
     "end_time": "2024-03-18T23:55:17.575496Z",
     "start_time": "2024-03-18T23:55:17.509146Z"
    }
   },
   "outputs": [
    {
     "name": "stdout",
     "output_type": "stream",
     "text": [
      "0.42861954167609007\n"
     ]
    }
   ],
   "source": [
    "mean_arts = arts_news_ratings[arts_news_ratings[\"category\"] == \"arts\"][\"rating\"].mean()\n",
    "mean_news = arts_news_ratings[arts_news_ratings[\"category\"] == \"news-government\"][\n",
    "    \"rating\"\n",
    "].mean()\n",
    "best_estimate = mean_arts - mean_news\n",
    "print(best_estimate)"
   ]
  },
  {
   "cell_type": "code",
   "execution_count": 28,
   "id": "5523e5b3-3334-495d-ad60-55d2803bdde1",
   "metadata": {
    "ExecuteTime": {
     "end_time": "2024-03-18T23:55:24.356453Z",
     "start_time": "2024-03-18T23:55:18.480414Z"
    }
   },
   "outputs": [
    {
     "name": "stdout",
     "output_type": "stream",
     "text": [
      "95% Confidence Interval: (0.421, 0.437)\n"
     ]
    }
   ],
   "source": [
    "lower, upper = bootstrap_confidence_interval_two_means(\n",
    "    arts_news_ratings[arts_news_ratings[\"category\"] == \"arts\"][\"rating\"],\n",
    "    arts_news_ratings[arts_news_ratings[\"category\"] == \"news-government\"][\"rating\"],\n",
    ")\n",
    "print(f\"95% Confidence Interval: ({lower:.3f}, {upper:.3f})\")"
   ]
  },
  {
   "cell_type": "markdown",
   "id": "ddaee59c-5f90-48d9-8ccc-e6cffea2172c",
   "metadata": {},
   "source": [
    "Our estimate sits within a pretty tight confidence interval due to such large sample sizes. There is about 0.42 to 0.43 point difference between how people rate these podcasts, that accounts for about 8.5% in how people rate each podcast. Is that statistically significant? \n",
    "\n",
    "Before running any tests, I must first check assumption of normality: \n",
    "- make a boxplot for each population\n",
    "- make a Q-Q plot for each population "
   ]
  },
  {
   "cell_type": "code",
   "execution_count": 29,
   "id": "4cb5c196bd0583cb",
   "metadata": {
    "ExecuteTime": {
     "end_time": "2024-03-18T23:55:34.371402Z",
     "start_time": "2024-03-18T23:55:33.490424Z"
    },
    "collapsed": false,
    "jupyter": {
     "outputs_hidden": false
    }
   },
   "outputs": [
    {
     "data": {
      "image/png": "[encoded data removed]",
      "text/plain": [
       "<Figure size 1000x600 with 1 Axes>"
      ]
     },
     "metadata": {},
     "output_type": "display_data"
    }
   ],
   "source": [
    "ax = sns.boxplot(data=arts_news_ratings, x=\"category\", y=\"rating\")\n",
    "\n",
    "sns.despine(left=False, bottom=False, right=True, top=True)\n",
    "ax.xaxis.set_ticks_position(\"bottom\")\n",
    "ax.xaxis.set_tick_params(width=1, length=5)\n",
    "ax.yaxis.set_ticks_position(\"left\")\n",
    "ax.yaxis.set_tick_params(width=1, length=5)\n",
    "\n",
    "\n",
    "plt.title(\"Boxplot of Podcast Ratings\")\n",
    "plt.xlabel(\"\")\n",
    "plt.ylabel(\"Rating\")\n",
    "plt.ylim(0, 5)\n",
    "plt.yticks(range(6))\n",
    "\n",
    "plt.show()"
   ]
  },
  {
   "cell_type": "code",
   "execution_count": 30,
   "id": "9e405ad7-8415-45ad-bdcd-daa218857905",
   "metadata": {
    "ExecuteTime": {
     "end_time": "2024-03-18T23:55:35.289661Z",
     "start_time": "2024-03-18T23:55:35.225895Z"
    }
   },
   "outputs": [],
   "source": [
    "arts_ratings_vec = arts_news_ratings[\n",
    "    arts_news_ratings[\"category\"] == \"arts\"\n",
    "].rating.values\n",
    "\n",
    "news_ratings_vec = arts_news_ratings[\n",
    "    arts_news_ratings[\"category\"] == \"news-government\"\n",
    "].rating.values"
   ]
  },
  {
   "cell_type": "code",
   "execution_count": 31,
   "id": "b515055c570737e2",
   "metadata": {
    "ExecuteTime": {
     "end_time": "2024-03-18T23:55:37.743346Z",
     "start_time": "2024-03-18T23:55:36.128024Z"
    },
    "collapsed": false,
    "jupyter": {
     "outputs_hidden": false
    }
   },
   "outputs": [
    {
     "data": {
      "image/png": "[encoded data removed]",
      "text/plain": [
       "<Figure size 1200x600 with 2 Axes>"
      ]
     },
     "metadata": {},
     "output_type": "display_data"
    }
   ],
   "source": [
    "fig, (ax1, ax2) = plt.subplots(1, 2, sharey=True, figsize=(12, 6))\n",
    "stats.probplot(arts_ratings_vec, plot=ax1)\n",
    "ax1.set_title(\"Q-Q Plot for Arts Ratings\")\n",
    "\n",
    "stats.probplot(news_ratings_vec, plot=ax2)\n",
    "ax2.set_title(\"Q-Q Plot for News-Government Ratings\")\n",
    "\n",
    "ax1.set_ylabel(\"Ordered Values\")\n",
    "\n",
    "for ax in (ax1, ax2):\n",
    "    ax.xaxis.set_ticks_position(\"bottom\")\n",
    "    ax.xaxis.set_tick_params(width=1, length=5)\n",
    "    ax.yaxis.set_ticks_position(\"left\")\n",
    "    ax.yaxis.set_tick_params(width=1, length=5)\n",
    "\n",
    "plt.tight_layout()\n",
    "plt.show()"
   ]
  },
  {
   "cell_type": "code",
   "execution_count": 32,
   "id": "d02c33e6-512f-457d-9920-5e2a2b5b35d3",
   "metadata": {
    "ExecuteTime": {
     "end_time": "2024-03-18T23:55:39.840732Z",
     "start_time": "2024-03-18T23:55:39.057795Z"
    }
   },
   "outputs": [
    {
     "data": {
      "image/png": "[encoded data removed]",
      "text/plain": [
       "<Figure size 1200x600 with 2 Axes>"
      ]
     },
     "metadata": {},
     "output_type": "display_data"
    }
   ],
   "source": [
    "_, (ax1, ax2) = plt.subplots(1, 2, figsize=(12, 6))\n",
    "sns.histplot(data=arts_ratings_vec, discrete=True, ax=ax1)\n",
    "ax1.set_title(\"Histogram for Arts Ratings\")\n",
    "\n",
    "sns.histplot(data=news_ratings_vec, discrete=True, ax=ax2)\n",
    "ax2.set_title(\"Histogram for News-Government Ratings\")\n",
    "\n",
    "ax1.set_ylabel(\"Ordered Values\")\n",
    "\n",
    "ax1.xaxis.set_ticks_position(\"bottom\")\n",
    "ax1.xaxis.set_tick_params(width=1, length=5)\n",
    "ax1.yaxis.set_ticks_position(\"left\")\n",
    "ax1.yaxis.set_tick_params(width=1, length=5)\n",
    "\n",
    "ax2.xaxis.set_ticks_position(\"bottom\")\n",
    "ax2.xaxis.set_tick_params(width=1, length=5)\n",
    "ax2.yaxis.set_ticks_position(\"left\")\n",
    "ax2.yaxis.set_tick_params(width=1, length=5)\n",
    "\n",
    "plt.tight_layout()\n",
    "plt.show()"
   ]
  },
  {
   "cell_type": "code",
   "execution_count": 33,
   "id": "e744711eb4fb0d75",
   "metadata": {
    "ExecuteTime": {
     "end_time": "2024-03-18T23:55:41.051549Z",
     "start_time": "2024-03-18T23:55:40.681577Z"
    },
    "collapsed": false,
    "jupyter": {
     "outputs_hidden": false
    }
   },
   "outputs": [
    {
     "name": "stdout",
     "output_type": "stream",
     "text": [
      "0.0003359261171045347\n"
     ]
    }
   ],
   "source": [
    "num_arts = arts_news_ratings[arts_news_ratings[\"category\"] == \"arts\"].shape[0]\n",
    "num_news = arts_news_ratings[arts_news_ratings[\"category\"] == \"news-government\"].shape[\n",
    "    0\n",
    "]\n",
    "print(mean_diff_permutation(arts_news_ratings[\"rating\"], num_arts, num_news))"
   ]
  },
  {
   "cell_type": "code",
   "execution_count": 34,
   "id": "38561f555c3c2f58",
   "metadata": {
    "ExecuteTime": {
     "end_time": "2024-03-19T00:00:46.290422Z",
     "start_time": "2024-03-18T23:55:42.027465Z"
    },
    "collapsed": false,
    "jupyter": {
     "outputs_hidden": false
    }
   },
   "outputs": [],
   "source": [
    "perm_diffs = [\n",
    "    mean_diff_permutation(arts_news_ratings[\"rating\"], num_arts, num_news)\n",
    "    for _ in range(1000)\n",
    "]"
   ]
  },
  {
   "cell_type": "code",
   "execution_count": 35,
   "id": "6227eda59475751d",
   "metadata": {
    "ExecuteTime": {
     "end_time": "2024-03-19T00:16:52.423293Z",
     "start_time": "2024-03-19T00:16:52.201447Z"
    },
    "collapsed": false,
    "jupyter": {
     "outputs_hidden": false
    }
   },
   "outputs": [
    {
     "data": {
      "image/png": "[encoded data removed]",
      "text/plain": [
       "<Figure size 1000x600 with 1 Axes>"
      ]
     },
     "metadata": {},
     "output_type": "display_data"
    }
   ],
   "source": [
    "ax = sns.histplot(data=perm_diffs, bins=10)\n",
    "ax.axvline(x=best_estimate, linestyle=\"--\", color=\"black\")\n",
    "\n",
    "sns.despine(left=True, bottom=True, right=True, top=True)\n",
    "ax.xaxis.set_ticks_position(\"bottom\")\n",
    "ax.xaxis.set_tick_params(width=1, length=5)\n",
    "ax.yaxis.set_ticks_position(\"left\")\n",
    "ax.yaxis.set_tick_params(width=1, length=5)\n",
    "ax.text(0.405, 200, \"Observed\\ndifference\", bbox={\"facecolor\": \"white\"})\n",
    "\n",
    "\n",
    "plt.title(\"Permutation Test of Mean Rating Difference\")\n",
    "plt.xlabel(\"Mean Rating Difference\")\n",
    "plt.ylabel(\"Count\")\n",
    "plt.show()"
   ]
  },
  {
   "cell_type": "code",
   "execution_count": 36,
   "id": "bd7ada4ba5fdd16d",
   "metadata": {
    "ExecuteTime": {
     "end_time": "2024-03-19T00:16:54.134175Z",
     "start_time": "2024-03-19T00:16:54.128259Z"
    },
    "collapsed": false,
    "jupyter": {
     "outputs_hidden": false
    }
   },
   "outputs": [
    {
     "name": "stdout",
     "output_type": "stream",
     "text": [
      "\n",
      "According to this permutation test the difference in the means \n",
      "that we observed would be observed due to chance 0.0% of the time, p < 0.0001.\n",
      "\n"
     ]
    }
   ],
   "source": [
    "p_value = np.mean([diff > best_estimate for diff in perm_diffs])\n",
    "print(\n",
    "    f\"\"\"\n",
    "According to this permutation test the difference in the means \n",
    "that we observed would be observed due to chance {p_value*100}% of the time, p < 0.0001.\n",
    "\"\"\"\n",
    ")"
   ]
  },
  {
   "cell_type": "markdown",
   "id": "dcf69cd4-9a2e-4fad-956a-5f3544e65339",
   "metadata": {},
   "source": [
    "As one final assessment of the ratings that we observed for arts vs. news&government, we will perform a Chi-Squared test of independence to determine if the observed distribution deviates from expectation. "
   ]
  },
  {
   "cell_type": "code",
   "execution_count": 37,
   "id": "cd829b10add10e16",
   "metadata": {
    "ExecuteTime": {
     "end_time": "2024-03-19T00:16:56.438355Z",
     "start_time": "2024-03-19T00:16:56.349476Z"
    },
    "collapsed": false,
    "jupyter": {
     "outputs_hidden": false
    }
   },
   "outputs": [
    {
     "data": {
      "text/html": [
       "<div>\n",
       "<style scoped>\n",
       "    .dataframe tbody tr th:only-of-type {\n",
       "        vertical-align: middle;\n",
       "    }\n",
       "\n",
       "    .dataframe tbody tr th {\n",
       "        vertical-align: top;\n",
       "    }\n",
       "\n",
       "    .dataframe thead th {\n",
       "        text-align: right;\n",
       "    }\n",
       "</style>\n",
       "<table border=\"1\" class=\"dataframe\">\n",
       "  <thead>\n",
       "    <tr style=\"text-align: right;\">\n",
       "      <th>rating</th>\n",
       "      <th>1.0</th>\n",
       "      <th>2.0</th>\n",
       "      <th>3.0</th>\n",
       "      <th>4.0</th>\n",
       "      <th>5.0</th>\n",
       "    </tr>\n",
       "    <tr>\n",
       "      <th>category</th>\n",
       "      <th></th>\n",
       "      <th></th>\n",
       "      <th></th>\n",
       "      <th></th>\n",
       "      <th></th>\n",
       "    </tr>\n",
       "  </thead>\n",
       "  <tbody>\n",
       "    <tr>\n",
       "      <th>arts</th>\n",
       "      <td>9921</td>\n",
       "      <td>4767</td>\n",
       "      <td>5656</td>\n",
       "      <td>8582</td>\n",
       "      <td>225413</td>\n",
       "    </tr>\n",
       "    <tr>\n",
       "      <th>news-government</th>\n",
       "      <td>16738</td>\n",
       "      <td>5600</td>\n",
       "      <td>6018</td>\n",
       "      <td>6099</td>\n",
       "      <td>107233</td>\n",
       "    </tr>\n",
       "  </tbody>\n",
       "</table>\n",
       "</div>"
      ],
      "text/plain": [
       "rating             1.0   2.0   3.0   4.0     5.0\n",
       "category                                        \n",
       "arts              9921  4767  5656  8582  225413\n",
       "news-government  16738  5600  6018  6099  107233"
      ]
     },
     "execution_count": 37,
     "metadata": {},
     "output_type": "execute_result"
    }
   ],
   "source": [
    "arts_news_contingency = pd.crosstab(\n",
    "    arts_news_ratings[\"category\"], arts_news_ratings[\"rating\"]\n",
    ")\n",
    "arts_news_contingency"
   ]
  },
  {
   "cell_type": "code",
   "execution_count": 38,
   "id": "6da853246364de5a",
   "metadata": {
    "ExecuteTime": {
     "end_time": "2024-03-19T00:16:57.514302Z",
     "start_time": "2024-03-19T00:16:57.509459Z"
    },
    "collapsed": false,
    "jupyter": {
     "outputs_hidden": false
    }
   },
   "outputs": [
    {
     "name": "stdout",
     "output_type": "stream",
     "text": [
      "\n",
      "Based on expectations, the current data presents a chi-squared statistic of 13256.1036\n",
      ", p<0.0001 (i.e.0.0000. This suggests that the distributions observed are independent \n",
      "(i.e. deviate from an expected distribution) and are unlikely due to chance.\n",
      "\n"
     ]
    }
   ],
   "source": [
    "chi_squared, p, _, _ = chi2_contingency(arts_news_contingency)\n",
    "print(\n",
    "    f\"\"\"\n",
    "Based on expectations, the current data presents a chi-squared statistic of {chi_squared:.4f}\n",
    ", p<0.0001 (i.e.{p:.4f}. This suggests that the distributions observed are independent \n",
    "(i.e. deviate from an expected distribution) and are unlikely due to chance.\n",
    "\"\"\"\n",
    ")"
   ]
  },
  {
   "cell_type": "markdown",
   "id": "657d35d82d1923b0",
   "metadata": {
    "collapsed": false,
    "jupyter": {
     "outputs_hidden": false
    }
   },
   "source": [
    "***\n",
    "### Compare the category with the highest proportion of 5 star reviews to category with highest proportion of 1 star reviews\n",
    "\n",
    "First, what are those categories? "
   ]
  },
  {
   "cell_type": "code",
   "execution_count": 39,
   "id": "b0e58d1d19bea2ce",
   "metadata": {
    "ExecuteTime": {
     "end_time": "2024-03-19T00:17:08.662784Z",
     "start_time": "2024-03-19T00:17:08.332006Z"
    },
    "collapsed": false,
    "jupyter": {
     "outputs_hidden": false
    }
   },
   "outputs": [
    {
     "name": "stdout",
     "output_type": "stream",
     "text": [
      "   category  rating  proportion\n",
      "5  business     5.0    0.940818\n",
      "           category  rating  proportion\n",
      "51  news-government     1.0    0.123038\n"
     ]
    }
   ],
   "source": [
    "rating_proportions = (\n",
    "    category_ratings.groupby(\"category\").value_counts(normalize=True).reset_index()\n",
    ")\n",
    "\n",
    "five_star_max = rating_proportions[rating_proportions[\"rating\"] == 5][\n",
    "    \"proportion\"\n",
    "].max()\n",
    "print(rating_proportions[rating_proportions[\"proportion\"] == five_star_max])\n",
    "\n",
    "one_star_max = rating_proportions[rating_proportions[\"rating\"] == 1][\"proportion\"].max()\n",
    "print(rating_proportions[rating_proportions[\"proportion\"] == one_star_max])"
   ]
  },
  {
   "cell_type": "markdown",
   "id": "82a319b92c1a45e2",
   "metadata": {
    "collapsed": false,
    "jupyter": {
     "outputs_hidden": false
    }
   },
   "source": [
    "So, business has the most 5-star reviews and news&government has the most 1-star reviews \n",
    "\n",
    "But __do these podcasts differ with regard to  what proportion of 3-star (i.e. \"lukewarm\") reviews each of these categories get?__ \n",
    "\n",
    "I would be quite surprised if a different amount of people would feel lukewarm about a podcast and give it 3-star rating regardless of whether a podcast is particularly liked, or particularly disliked.\n",
    "\n",
    "_population 1:_ three-star reviews of business podcasts <br>\n",
    "_population 2:_ three-star reviews of news-government podcasts\n",
    "\n",
    "parameter of interest: $p_{1}$ - $p_{2}$ , i.e. difference in proportion of 3-star ratings between groups\n",
    "\n",
    "note: $p$ here represents the proportion of 3-star ratings\n",
    "\n",
    "null hypothesis $H_{0}$: $p_{1}$ = $p_{2}$ (i.e. no difference, $p_{1}$ - $p_{2}$ = 0)\n",
    "and alternative hypothesis $H_{0}$: $\\theta_{1}$ $\\neq$ $\\theta_{2}$ (i.e. some difference, $p_{1}$ - $p_{2}$ $\\neq$ 0)\n",
    "\n",
    "I will assess this at a $\\alpha$-level = 0.05\n",
    "\n",
    "assumptions: \n",
    "- independent simple random samples\n",
    "- normality / \"large enough\" sample size to invoke central limit theorem"
   ]
  },
  {
   "cell_type": "code",
   "execution_count": 40,
   "id": "1e8735ab1eb929ad",
   "metadata": {
    "ExecuteTime": {
     "end_time": "2024-03-19T00:17:11.488316Z",
     "start_time": "2024-03-19T00:17:11.027948Z"
    },
    "collapsed": false,
    "jupyter": {
     "outputs_hidden": false
    }
   },
   "outputs": [
    {
     "data": {
      "text/html": [
       "<div>\n",
       "<style scoped>\n",
       "    .dataframe tbody tr th:only-of-type {\n",
       "        vertical-align: middle;\n",
       "    }\n",
       "\n",
       "    .dataframe tbody tr th {\n",
       "        vertical-align: top;\n",
       "    }\n",
       "\n",
       "    .dataframe thead th {\n",
       "        text-align: right;\n",
       "    }\n",
       "</style>\n",
       "<table border=\"1\" class=\"dataframe\">\n",
       "  <thead>\n",
       "    <tr style=\"text-align: right;\">\n",
       "      <th></th>\n",
       "      <th>reviewer</th>\n",
       "      <th>rating</th>\n",
       "      <th>category</th>\n",
       "    </tr>\n",
       "  </thead>\n",
       "  <tbody>\n",
       "    <tr>\n",
       "      <th>31</th>\n",
       "      <td>A7A972EC484B528</td>\n",
       "      <td>5.0</td>\n",
       "      <td>business</td>\n",
       "    </tr>\n",
       "    <tr>\n",
       "      <th>32</th>\n",
       "      <td>7D68FF21C4E5A86</td>\n",
       "      <td>5.0</td>\n",
       "      <td>business</td>\n",
       "    </tr>\n",
       "    <tr>\n",
       "      <th>33</th>\n",
       "      <td>2E583AA6ADE7E2D</td>\n",
       "      <td>5.0</td>\n",
       "      <td>business</td>\n",
       "    </tr>\n",
       "    <tr>\n",
       "      <th>34</th>\n",
       "      <td>517DFDA7B975B4C</td>\n",
       "      <td>5.0</td>\n",
       "      <td>business</td>\n",
       "    </tr>\n",
       "    <tr>\n",
       "      <th>35</th>\n",
       "      <td>925505304DEF730</td>\n",
       "      <td>5.0</td>\n",
       "      <td>business</td>\n",
       "    </tr>\n",
       "    <tr>\n",
       "      <th>...</th>\n",
       "      <td>...</td>\n",
       "      <td>...</td>\n",
       "      <td>...</td>\n",
       "    </tr>\n",
       "    <tr>\n",
       "      <th>2041710</th>\n",
       "      <td>B4AF35070E90B91</td>\n",
       "      <td>5.0</td>\n",
       "      <td>business</td>\n",
       "    </tr>\n",
       "    <tr>\n",
       "      <th>2041711</th>\n",
       "      <td>E39276E137EE21F</td>\n",
       "      <td>5.0</td>\n",
       "      <td>business</td>\n",
       "    </tr>\n",
       "    <tr>\n",
       "      <th>2041712</th>\n",
       "      <td>4691664311C6211</td>\n",
       "      <td>5.0</td>\n",
       "      <td>business</td>\n",
       "    </tr>\n",
       "    <tr>\n",
       "      <th>2041713</th>\n",
       "      <td>C8EB2CEE0B67BE9</td>\n",
       "      <td>5.0</td>\n",
       "      <td>business</td>\n",
       "    </tr>\n",
       "    <tr>\n",
       "      <th>2041714</th>\n",
       "      <td>72492FA3CA38090</td>\n",
       "      <td>5.0</td>\n",
       "      <td>business</td>\n",
       "    </tr>\n",
       "  </tbody>\n",
       "</table>\n",
       "<p>377336 rows × 3 columns</p>\n",
       "</div>"
      ],
      "text/plain": [
       "                reviewer  rating  category\n",
       "31       A7A972EC484B528     5.0  business\n",
       "32       7D68FF21C4E5A86     5.0  business\n",
       "33       2E583AA6ADE7E2D     5.0  business\n",
       "34       517DFDA7B975B4C     5.0  business\n",
       "35       925505304DEF730     5.0  business\n",
       "...                  ...     ...       ...\n",
       "2041710  B4AF35070E90B91     5.0  business\n",
       "2041711  E39276E137EE21F     5.0  business\n",
       "2041712  4691664311C6211     5.0  business\n",
       "2041713  C8EB2CEE0B67BE9     5.0  business\n",
       "2041714  72492FA3CA38090     5.0  business\n",
       "\n",
       "[377336 rows x 3 columns]"
      ]
     },
     "execution_count": 40,
     "metadata": {},
     "output_type": "execute_result"
    }
   ],
   "source": [
    "biz_news_ratings = main_ratings_df[[\"reviewer\", \"rating\", \"category\"]][\n",
    "    (main_ratings_df[\"category\"] == \"business\")\n",
    "    | (main_ratings_df[\"category\"] == \"news-government\")\n",
    "]\n",
    "\n",
    "biz_news_ratings"
   ]
  },
  {
   "cell_type": "markdown",
   "id": "4dcb63ad59b91201",
   "metadata": {
    "collapsed": false,
    "jupyter": {
     "outputs_hidden": false
    }
   },
   "source": [
    "assumption of independent simple random samples: \n",
    "\n",
    "While I can not ensure a SRS (I will assume this for sake of analysis), I can ensure that our sample does not have any members in both samples"
   ]
  },
  {
   "cell_type": "code",
   "execution_count": 41,
   "id": "133035487a418539",
   "metadata": {
    "ExecuteTime": {
     "end_time": "2024-03-19T00:17:14.426649Z",
     "start_time": "2024-03-19T00:17:13.601594Z"
    },
    "collapsed": false,
    "jupyter": {
     "outputs_hidden": false
    }
   },
   "outputs": [
    {
     "data": {
      "text/html": [
       "<div>\n",
       "<style scoped>\n",
       "    .dataframe tbody tr th:only-of-type {\n",
       "        vertical-align: middle;\n",
       "    }\n",
       "\n",
       "    .dataframe tbody tr th {\n",
       "        vertical-align: top;\n",
       "    }\n",
       "\n",
       "    .dataframe thead th {\n",
       "        text-align: right;\n",
       "    }\n",
       "</style>\n",
       "<table border=\"1\" class=\"dataframe\">\n",
       "  <thead>\n",
       "    <tr style=\"text-align: right;\">\n",
       "      <th></th>\n",
       "      <th>reviewer</th>\n",
       "      <th>rating</th>\n",
       "      <th>category</th>\n",
       "    </tr>\n",
       "  </thead>\n",
       "  <tbody>\n",
       "    <tr>\n",
       "      <th>31</th>\n",
       "      <td>A7A972EC484B528</td>\n",
       "      <td>5.0</td>\n",
       "      <td>business</td>\n",
       "    </tr>\n",
       "    <tr>\n",
       "      <th>32</th>\n",
       "      <td>7D68FF21C4E5A86</td>\n",
       "      <td>5.0</td>\n",
       "      <td>business</td>\n",
       "    </tr>\n",
       "    <tr>\n",
       "      <th>33</th>\n",
       "      <td>2E583AA6ADE7E2D</td>\n",
       "      <td>5.0</td>\n",
       "      <td>business</td>\n",
       "    </tr>\n",
       "    <tr>\n",
       "      <th>34</th>\n",
       "      <td>517DFDA7B975B4C</td>\n",
       "      <td>5.0</td>\n",
       "      <td>business</td>\n",
       "    </tr>\n",
       "    <tr>\n",
       "      <th>35</th>\n",
       "      <td>925505304DEF730</td>\n",
       "      <td>5.0</td>\n",
       "      <td>business</td>\n",
       "    </tr>\n",
       "    <tr>\n",
       "      <th>...</th>\n",
       "      <td>...</td>\n",
       "      <td>...</td>\n",
       "      <td>...</td>\n",
       "    </tr>\n",
       "    <tr>\n",
       "      <th>2041710</th>\n",
       "      <td>B4AF35070E90B91</td>\n",
       "      <td>5.0</td>\n",
       "      <td>business</td>\n",
       "    </tr>\n",
       "    <tr>\n",
       "      <th>2041711</th>\n",
       "      <td>E39276E137EE21F</td>\n",
       "      <td>5.0</td>\n",
       "      <td>business</td>\n",
       "    </tr>\n",
       "    <tr>\n",
       "      <th>2041712</th>\n",
       "      <td>4691664311C6211</td>\n",
       "      <td>5.0</td>\n",
       "      <td>business</td>\n",
       "    </tr>\n",
       "    <tr>\n",
       "      <th>2041713</th>\n",
       "      <td>C8EB2CEE0B67BE9</td>\n",
       "      <td>5.0</td>\n",
       "      <td>business</td>\n",
       "    </tr>\n",
       "    <tr>\n",
       "      <th>2041714</th>\n",
       "      <td>72492FA3CA38090</td>\n",
       "      <td>5.0</td>\n",
       "      <td>business</td>\n",
       "    </tr>\n",
       "  </tbody>\n",
       "</table>\n",
       "<p>354455 rows × 3 columns</p>\n",
       "</div>"
      ],
      "text/plain": [
       "                reviewer  rating  category\n",
       "31       A7A972EC484B528     5.0  business\n",
       "32       7D68FF21C4E5A86     5.0  business\n",
       "33       2E583AA6ADE7E2D     5.0  business\n",
       "34       517DFDA7B975B4C     5.0  business\n",
       "35       925505304DEF730     5.0  business\n",
       "...                  ...     ...       ...\n",
       "2041710  B4AF35070E90B91     5.0  business\n",
       "2041711  E39276E137EE21F     5.0  business\n",
       "2041712  4691664311C6211     5.0  business\n",
       "2041713  C8EB2CEE0B67BE9     5.0  business\n",
       "2041714  72492FA3CA38090     5.0  business\n",
       "\n",
       "[354455 rows x 3 columns]"
      ]
     },
     "execution_count": 41,
     "metadata": {},
     "output_type": "execute_result"
    }
   ],
   "source": [
    "duplicate_reviewers = (\n",
    "    biz_news_ratings.groupby([\"reviewer\", \"category\"]).size().unstack()\n",
    ")\n",
    "duplicate_reviewers = duplicate_reviewers[\n",
    "    (duplicate_reviewers[\"business\"] > 0) & (duplicate_reviewers[\"news-government\"] > 0)\n",
    "]\n",
    "biz_news_ratings = biz_news_ratings[\n",
    "    ~biz_news_ratings[\"reviewer\"].isin(duplicate_reviewers.index)\n",
    "]\n",
    "biz_news_ratings"
   ]
  },
  {
   "cell_type": "markdown",
   "id": "1af1790e-1c87-48f1-9e24-d38ccc3b0805",
   "metadata": {},
   "source": [
    "Before getting too far into the analysis, what do these two groups look like?"
   ]
  },
  {
   "cell_type": "code",
   "execution_count": 42,
   "id": "c5344caa-d932-421d-b20b-bc89e31f076b",
   "metadata": {
    "ExecuteTime": {
     "end_time": "2024-03-19T00:17:16.280423Z",
     "start_time": "2024-03-19T00:17:16.205872Z"
    }
   },
   "outputs": [
    {
     "data": {
      "text/html": [
       "<div>\n",
       "<style scoped>\n",
       "    .dataframe tbody tr th:only-of-type {\n",
       "        vertical-align: middle;\n",
       "    }\n",
       "\n",
       "    .dataframe tbody tr th {\n",
       "        vertical-align: top;\n",
       "    }\n",
       "\n",
       "    .dataframe thead tr th {\n",
       "        text-align: left;\n",
       "    }\n",
       "\n",
       "    .dataframe thead tr:last-of-type th {\n",
       "        text-align: right;\n",
       "    }\n",
       "</style>\n",
       "<table border=\"1\" class=\"dataframe\">\n",
       "  <thead>\n",
       "    <tr>\n",
       "      <th></th>\n",
       "      <th colspan=\"8\" halign=\"left\">rating</th>\n",
       "    </tr>\n",
       "    <tr>\n",
       "      <th></th>\n",
       "      <th>count</th>\n",
       "      <th>mean</th>\n",
       "      <th>std</th>\n",
       "      <th>min</th>\n",
       "      <th>25%</th>\n",
       "      <th>50%</th>\n",
       "      <th>75%</th>\n",
       "      <th>max</th>\n",
       "    </tr>\n",
       "    <tr>\n",
       "      <th>category</th>\n",
       "      <th></th>\n",
       "      <th></th>\n",
       "      <th></th>\n",
       "      <th></th>\n",
       "      <th></th>\n",
       "      <th></th>\n",
       "      <th></th>\n",
       "      <th></th>\n",
       "    </tr>\n",
       "  </thead>\n",
       "  <tbody>\n",
       "    <tr>\n",
       "      <th>business</th>\n",
       "      <td>203667.0</td>\n",
       "      <td>4.856589</td>\n",
       "      <td>0.662435</td>\n",
       "      <td>1.0</td>\n",
       "      <td>5.0</td>\n",
       "      <td>5.0</td>\n",
       "      <td>5.0</td>\n",
       "      <td>5.0</td>\n",
       "    </tr>\n",
       "    <tr>\n",
       "      <th>news-government</th>\n",
       "      <td>150788.0</td>\n",
       "      <td>4.264524</td>\n",
       "      <td>1.403911</td>\n",
       "      <td>1.0</td>\n",
       "      <td>5.0</td>\n",
       "      <td>5.0</td>\n",
       "      <td>5.0</td>\n",
       "      <td>5.0</td>\n",
       "    </tr>\n",
       "  </tbody>\n",
       "</table>\n",
       "</div>"
      ],
      "text/plain": [
       "                   rating                                             \n",
       "                    count      mean       std  min  25%  50%  75%  max\n",
       "category                                                              \n",
       "business         203667.0  4.856589  0.662435  1.0  5.0  5.0  5.0  5.0\n",
       "news-government  150788.0  4.264524  1.403911  1.0  5.0  5.0  5.0  5.0"
      ]
     },
     "execution_count": 42,
     "metadata": {},
     "output_type": "execute_result"
    }
   ],
   "source": [
    "biz_news_ratings.groupby(\"category\").describe()"
   ]
  },
  {
   "cell_type": "code",
   "execution_count": 43,
   "id": "67dbc1e6f55d988e",
   "metadata": {
    "ExecuteTime": {
     "end_time": "2024-03-19T00:17:17.967579Z",
     "start_time": "2024-03-19T00:17:17.890343Z"
    },
    "collapsed": false,
    "jupyter": {
     "outputs_hidden": false
    }
   },
   "outputs": [
    {
     "data": {
      "text/html": [
       "<div>\n",
       "<style scoped>\n",
       "    .dataframe tbody tr th:only-of-type {\n",
       "        vertical-align: middle;\n",
       "    }\n",
       "\n",
       "    .dataframe tbody tr th {\n",
       "        vertical-align: top;\n",
       "    }\n",
       "\n",
       "    .dataframe thead th {\n",
       "        text-align: right;\n",
       "    }\n",
       "</style>\n",
       "<table border=\"1\" class=\"dataframe\">\n",
       "  <thead>\n",
       "    <tr style=\"text-align: right;\">\n",
       "      <th>rating</th>\n",
       "      <th>category</th>\n",
       "      <th>1.0</th>\n",
       "      <th>2.0</th>\n",
       "      <th>3.0</th>\n",
       "      <th>4.0</th>\n",
       "      <th>4.5</th>\n",
       "      <th>5.0</th>\n",
       "    </tr>\n",
       "  </thead>\n",
       "  <tbody>\n",
       "    <tr>\n",
       "      <th>0</th>\n",
       "      <td>business</td>\n",
       "      <td>4204.0</td>\n",
       "      <td>1636.0</td>\n",
       "      <td>2045.0</td>\n",
       "      <td>3393.0</td>\n",
       "      <td>2.0</td>\n",
       "      <td>192387.0</td>\n",
       "    </tr>\n",
       "    <tr>\n",
       "      <th>1</th>\n",
       "      <td>news-government</td>\n",
       "      <td>18176.0</td>\n",
       "      <td>6090.0</td>\n",
       "      <td>6604.0</td>\n",
       "      <td>6719.0</td>\n",
       "      <td>NaN</td>\n",
       "      <td>113199.0</td>\n",
       "    </tr>\n",
       "  </tbody>\n",
       "</table>\n",
       "</div>"
      ],
      "text/plain": [
       "rating         category      1.0     2.0     3.0     4.0  4.5       5.0\n",
       "0              business   4204.0  1636.0  2045.0  3393.0  2.0  192387.0\n",
       "1       news-government  18176.0  6090.0  6604.0  6719.0  NaN  113199.0"
      ]
     },
     "execution_count": 43,
     "metadata": {},
     "output_type": "execute_result"
    }
   ],
   "source": [
    "biz_news_ratings_counts = (\n",
    "    biz_news_ratings[[\"rating\", \"category\"]]\n",
    "    .groupby(\"category\")\n",
    "    .value_counts()\n",
    "    .unstack()\n",
    "    .reset_index()\n",
    ")\n",
    "biz_news_ratings_counts"
   ]
  },
  {
   "cell_type": "markdown",
   "id": "25634a36-aca9-477e-bf7e-d44a5c1cce8e",
   "metadata": {},
   "source": [
    "When I look at these data I notice a few things:\n",
    "- the business group is larger than the news&government group, hence more reviews.\n",
    "- There are in fact more 5 star reviews.\n",
    "- Although at first I expected that the proportion of 3-star reviews would not differ, it does appear like there are many more \"lukewarm\" 3-star reviews proportionally for business podcasts. \n",
    "\n",
    "Now I will generate proportions of 3-star counts from these data in order to assess this observation quantitatively. Although my visual assessment differs from the null distribution, does the data in fact differ in this way? "
   ]
  },
  {
   "cell_type": "code",
   "execution_count": 44,
   "id": "6dc23bc6bb03b59f",
   "metadata": {
    "ExecuteTime": {
     "end_time": "2024-03-19T00:17:20.130950Z",
     "start_time": "2024-03-19T00:17:20.125455Z"
    },
    "collapsed": false,
    "jupyter": {
     "outputs_hidden": false
    }
   },
   "outputs": [],
   "source": [
    "biz_news_ratings_totals = biz_news_ratings_counts.set_index(\"category\").sum(axis=1)\n",
    "biz_totals = biz_news_ratings_totals.values[0]\n",
    "news_totals = biz_news_ratings_totals.values[1]"
   ]
  },
  {
   "cell_type": "code",
   "execution_count": 45,
   "id": "3da1dd76b5fac238",
   "metadata": {
    "ExecuteTime": {
     "end_time": "2024-03-19T00:17:24.419836Z",
     "start_time": "2024-03-19T00:17:24.415310Z"
    },
    "collapsed": false,
    "jupyter": {
     "outputs_hidden": false
    }
   },
   "outputs": [],
   "source": [
    "biz_3_star_cts = biz_news_ratings_counts[\n",
    "    biz_news_ratings_counts[\"category\"] == \"business\"\n",
    "][3.0].values\n",
    "biz_proportion = biz_3_star_cts / biz_totals\n",
    "biz_proportion = biz_proportion[0]"
   ]
  },
  {
   "cell_type": "code",
   "execution_count": 46,
   "id": "d6c5fe89551d9b0c",
   "metadata": {
    "ExecuteTime": {
     "end_time": "2024-03-19T00:17:25.437674Z",
     "start_time": "2024-03-19T00:17:25.433317Z"
    },
    "collapsed": false,
    "jupyter": {
     "outputs_hidden": false
    }
   },
   "outputs": [],
   "source": [
    "news_3_star_cts = biz_news_ratings_counts[\n",
    "    biz_news_ratings_counts[\"category\"] == \"news-government\"\n",
    "][3.0].values\n",
    "news_proportion = news_3_star_cts / news_totals\n",
    "news_proportion = news_proportion[0]"
   ]
  },
  {
   "cell_type": "code",
   "execution_count": 47,
   "id": "75c1596e-36d4-42df-83b4-4c225d5113e9",
   "metadata": {
    "ExecuteTime": {
     "end_time": "2024-03-19T00:17:26.258093Z",
     "start_time": "2024-03-19T00:17:26.144015Z"
    }
   },
   "outputs": [
    {
     "data": {
      "image/png": "[encoded data removed]",
      "text/plain": [
       "<Figure size 400x400 with 1 Axes>"
      ]
     },
     "metadata": {},
     "output_type": "display_data"
    }
   ],
   "source": [
    "_, ax = plt.subplots(figsize=(4, 4))\n",
    "\n",
    "podcasts = [\"business\", \"news-government\"]\n",
    "proportions = [biz_proportion, news_proportion]\n",
    "bar_labels = [\"business\", \"news-government\"]\n",
    "bar_colors = [\"tab:red\", \"tab:blue\"]\n",
    "\n",
    "bars = ax.bar(podcasts, proportions, label=bar_labels, color=bar_colors)\n",
    "\n",
    "for bar, proportion in zip(bars, proportions):\n",
    "    height = bar.get_height()\n",
    "    ax.text(\n",
    "        bar.get_x() + bar.get_width() / 2,\n",
    "        height,\n",
    "        f\"{proportion:.2f}\",\n",
    "        ha=\"center\",\n",
    "        va=\"bottom\",\n",
    "    )\n",
    "\n",
    "sns.despine(left=True, bottom=True, right=True, top=True)\n",
    "ax.xaxis.set_ticks_position(\"bottom\")\n",
    "ax.xaxis.set_tick_params(width=1, length=5)\n",
    "ax.yaxis.set_ticks_position(\"left\")\n",
    "ax.yaxis.set_tick_params(width=1, length=5)\n",
    "\n",
    "ax.set_ylabel(\"Proportion of Reviews\")\n",
    "ax.set_title(\"Proportion of 3-star Reviews\")\n",
    "ax.set_ylim(0, 1)\n",
    "\n",
    "plt.show()"
   ]
  },
  {
   "cell_type": "code",
   "execution_count": 49,
   "id": "510005213814fc45",
   "metadata": {
    "ExecuteTime": {
     "end_time": "2024-03-19T00:17:28.714269Z",
     "start_time": "2024-03-19T00:17:28.709485Z"
    },
    "collapsed": false,
    "jupyter": {
     "outputs_hidden": false
    }
   },
   "outputs": [
    {
     "name": "stdout",
     "output_type": "stream",
     "text": [
      "-0.033755688491224775\n"
     ]
    }
   ],
   "source": [
    "best_estimate = biz_proportion - news_proportion\n",
    "print(best_estimate)"
   ]
  },
  {
   "cell_type": "markdown",
   "id": "e10cd12cc1430480",
   "metadata": {
    "collapsed": false,
    "jupyter": {
     "outputs_hidden": false
    }
   },
   "source": [
    "As we can see, the difference here is that group 2, news&government has a larger proportion of 3-star ratings by about 3%. Is this significant? \n",
    "\n",
    "My approach will be:\n",
    "- Calculate a confidence interval for these estimates using standard methods\n",
    "- Perform a hypothesis test based on normal assumptions followed by a resampling approach\n",
    "- Perform a chi-square test directly on the counts"
   ]
  },
  {
   "cell_type": "code",
   "execution_count": 51,
   "id": "953a35e408ffe1c6",
   "metadata": {
    "ExecuteTime": {
     "end_time": "2024-03-19T00:17:30.438151Z",
     "start_time": "2024-03-19T00:17:30.432394Z"
    },
    "collapsed": false,
    "jupyter": {
     "outputs_hidden": false
    }
   },
   "outputs": [
    {
     "name": "stdout",
     "output_type": "stream",
     "text": [
      "95% Confidence Interval: [-0.03488298], [-0.03264268]\n"
     ]
    }
   ],
   "source": [
    "CI_low, CI_up = sm.stats.confint_proportions_2indep(\n",
    "    biz_3_star_cts,\n",
    "    biz_totals,\n",
    "    news_3_star_cts,\n",
    "    news_totals,\n",
    "    compare=\"diff\",\n",
    "    alpha=0.05,\n",
    "    correction=True,\n",
    ")\n",
    "print(f\"95% Confidence Interval: {CI_low}, {CI_up}\")"
   ]
  },
  {
   "cell_type": "markdown",
   "id": "6bc576aebb17f22d",
   "metadata": {
    "collapsed": false,
    "jupyter": {
     "outputs_hidden": false
    }
   },
   "source": [
    "Notice that 0 is not in this confidence interval, hence, it is possible that there are  It is actually a very small confidence interval, so it could be that there are in fact more people providing 3-star reviews to news podcasts than to business podcasts"
   ]
  },
  {
   "cell_type": "markdown",
   "id": "e8d2c2e1f3ef14ca",
   "metadata": {
    "collapsed": false,
    "jupyter": {
     "outputs_hidden": false
    }
   },
   "source": [
    "Assumption:<br>\n",
    "If I am to run a normal hypothesis test, then I need to assess is that my sample sizes are sufficiently large, a rule of thumb follows the assertions below. Although we have huge sample sizes, I will perform these assertions for good practice before running a hypothesis test."
   ]
  },
  {
   "cell_type": "code",
   "execution_count": 52,
   "id": "8da7c43bedb1c283",
   "metadata": {
    "ExecuteTime": {
     "end_time": "2024-03-19T00:17:33.522606Z",
     "start_time": "2024-03-19T00:17:33.519014Z"
    },
    "collapsed": false,
    "jupyter": {
     "outputs_hidden": false
    }
   },
   "outputs": [],
   "source": [
    "total_3_star_proportion = (biz_3_star_cts + news_3_star_cts) / (\n",
    "    biz_totals + news_totals\n",
    ")\n",
    "\n",
    "assert biz_totals * total_3_star_proportion > 10, \"Assumptions not met\"\n",
    "assert news_totals * total_3_star_proportion > 10, \"Assumptions not met\"\n",
    "assert biz_totals * (1 - total_3_star_proportion) > 10, \"Assumptions not met\"\n",
    "assert news_totals * (1 - total_3_star_proportion) > 10, \"Assumptions not met\""
   ]
  },
  {
   "cell_type": "code",
   "execution_count": 53,
   "id": "690337df67455aa2",
   "metadata": {
    "ExecuteTime": {
     "end_time": "2024-03-19T00:17:34.567529Z",
     "start_time": "2024-03-19T00:17:34.562716Z"
    },
    "collapsed": false,
    "jupyter": {
     "outputs_hidden": false
    }
   },
   "outputs": [
    {
     "name": "stdout",
     "output_type": "stream",
     "text": [
      "\n",
      "    Assuming a normal distrubtion, comparing the proportions of business podcast reviews to \n",
      "    news & government podcast reviews, there appear to be differences in how many reviewers \n",
      "    feel lukewarm (defined by 3-star reviews) about those podcasts, Z=-59.0691, \n",
      "    p < 0.001 (i.e. p=0.0).\n",
      "    \n"
     ]
    }
   ],
   "source": [
    "statistic, p = sm.stats.test_proportions_2indep(\n",
    "    biz_3_star_cts,\n",
    "    biz_totals,\n",
    "    news_3_star_cts,\n",
    "    news_totals,\n",
    "    compare=\"diff\",\n",
    "    alternative=\"two-sided\",\n",
    "    return_results=False,\n",
    ")\n",
    "\n",
    "print(\n",
    "    f\"\"\"\n",
    "    Assuming a normal distrubtion, comparing the proportions of business podcast reviews to \n",
    "    news & government podcast reviews, there appear to be differences in how many reviewers \n",
    "    feel lukewarm (defined by 3-star reviews) about those podcasts, Z={round(statistic.item(),4)}, \n",
    "    p < 0.001 (i.e. p={p.item()}).\n",
    "    \"\"\"\n",
    ")"
   ]
  },
  {
   "cell_type": "markdown",
   "id": "84c58ba20f685721",
   "metadata": {
    "collapsed": false,
    "jupyter": {
     "outputs_hidden": false
    }
   },
   "source": [
    "To my genuine surprise, this appears to be a significant difference. However, this could also just be because there is such a large sample size that little differences are amplified in magnitude. \n",
    "\n",
    "Let's assess this same thing with a resampling approach. "
   ]
  },
  {
   "cell_type": "code",
   "execution_count": 54,
   "id": "711e909f-c410-48c9-a209-edc5fb3cc6ca",
   "metadata": {
    "ExecuteTime": {
     "end_time": "2024-03-19T00:17:36.418800Z",
     "start_time": "2024-03-19T00:17:36.403238Z"
    }
   },
   "outputs": [
    {
     "data": {
      "text/plain": [
       "np.float64(0.516150913945612)"
      ]
     },
     "execution_count": 54,
     "metadata": {},
     "output_type": "execute_result"
    }
   ],
   "source": [
    "three_star = biz_news_ratings[(biz_news_ratings[\"rating\"] == 3)]\n",
    "three_star = three_star[\"category\"]\n",
    "proportion_diff_permutation(three_star, int(biz_3_star_cts[0]), int(news_3_star_cts[0]))"
   ]
  },
  {
   "cell_type": "code",
   "execution_count": 55,
   "id": "469b84d9-64ce-4b58-9375-f659859ea0f6",
   "metadata": {
    "ExecuteTime": {
     "end_time": "2024-03-19T00:17:42.734274Z",
     "start_time": "2024-03-19T00:17:37.658140Z"
    }
   },
   "outputs": [],
   "source": [
    "perm_diffs = [\n",
    "    100\n",
    "    * proportion_diff_permutation(\n",
    "        three_star, int(biz_3_star_cts[0]), int(news_3_star_cts[0])\n",
    "    )\n",
    "    for _ in range(1000)\n",
    "]"
   ]
  },
  {
   "cell_type": "code",
   "execution_count": 56,
   "id": "3c7bb1c7fa2f3e58",
   "metadata": {
    "ExecuteTime": {
     "end_time": "2024-03-19T00:17:42.888287Z",
     "start_time": "2024-03-19T00:17:42.736361Z"
    },
    "collapsed": false,
    "jupyter": {
     "outputs_hidden": false
    }
   },
   "outputs": [
    {
     "data": {
      "image/png": "[encoded data removed]",
      "text/plain": [
       "<Figure size 1000x600 with 1 Axes>"
      ]
     },
     "metadata": {},
     "output_type": "display_data"
    }
   ],
   "source": [
    "ax = sns.histplot(data=perm_diffs, bins=10)\n",
    "ax.axvline(x=best_estimate * 100, linestyle=\"--\", color=\"black\")\n",
    "\n",
    "sns.despine(left=True, bottom=True, right=True, top=True)\n",
    "ax.xaxis.set_ticks_position(\"bottom\")\n",
    "ax.xaxis.set_tick_params(width=1, length=5)\n",
    "ax.yaxis.set_ticks_position(\"left\")\n",
    "ax.yaxis.set_tick_params(width=1, length=5)\n",
    "ax.text(-2.8, 200, \"Observed\\ndifference\", bbox={\"facecolor\": \"white\"})\n",
    "\n",
    "\n",
    "plt.title(\"Permutation Test of Proportion Difference\")\n",
    "plt.xlabel(\"Difference in Proportion of Three-Star Ratings (Percent)\")\n",
    "plt.ylabel(\"Count\")\n",
    "plt.show()"
   ]
  },
  {
   "cell_type": "code",
   "execution_count": 57,
   "id": "90afaa14405b0aec",
   "metadata": {
    "ExecuteTime": {
     "end_time": "2024-03-19T00:17:45.033392Z",
     "start_time": "2024-03-19T00:17:45.023749Z"
    },
    "collapsed": false,
    "jupyter": {
     "outputs_hidden": false
    }
   },
   "outputs": [
    {
     "data": {
      "text/html": [
       "<div>\n",
       "<style scoped>\n",
       "    .dataframe tbody tr th:only-of-type {\n",
       "        vertical-align: middle;\n",
       "    }\n",
       "\n",
       "    .dataframe tbody tr th {\n",
       "        vertical-align: top;\n",
       "    }\n",
       "\n",
       "    .dataframe thead th {\n",
       "        text-align: right;\n",
       "    }\n",
       "</style>\n",
       "<table border=\"1\" class=\"dataframe\">\n",
       "  <thead>\n",
       "    <tr style=\"text-align: right;\">\n",
       "      <th></th>\n",
       "      <th>buisness</th>\n",
       "      <th>news</th>\n",
       "    </tr>\n",
       "  </thead>\n",
       "  <tbody>\n",
       "    <tr>\n",
       "      <th>three-star</th>\n",
       "      <td>2045</td>\n",
       "      <td>6604</td>\n",
       "    </tr>\n",
       "    <tr>\n",
       "      <th>not three-star</th>\n",
       "      <td>201622</td>\n",
       "      <td>144184</td>\n",
       "    </tr>\n",
       "  </tbody>\n",
       "</table>\n",
       "</div>"
      ],
      "text/plain": [
       "                buisness    news\n",
       "three-star          2045    6604\n",
       "not three-star    201622  144184"
      ]
     },
     "execution_count": 57,
     "metadata": {},
     "output_type": "execute_result"
    }
   ],
   "source": [
    "biz_news_contingency = pd.DataFrame(\n",
    "    {\n",
    "        \"buisness\": [int(biz_3_star_cts[0]), int(biz_totals - biz_3_star_cts[0])],\n",
    "        \"news\": [int(news_3_star_cts[0]), int(news_totals - news_3_star_cts[0])],\n",
    "    },\n",
    "    index=[\"three-star\", \"not three-star\"],\n",
    ")\n",
    "biz_news_contingency"
   ]
  },
  {
   "cell_type": "code",
   "execution_count": 58,
   "id": "d06eb7b036f91f1a",
   "metadata": {
    "ExecuteTime": {
     "end_time": "2024-03-19T00:17:46.129577Z",
     "start_time": "2024-03-19T00:17:46.123702Z"
    },
    "collapsed": false,
    "jupyter": {
     "outputs_hidden": false
    }
   },
   "outputs": [
    {
     "name": "stdout",
     "output_type": "stream",
     "text": [
      "Based on the expected distribution of counts:\n",
      "and an alpha-level of 0.05, we would reject the null hypothesis that there is not association between these variables.\n",
      "         based on these data it appears that there is an associated with these variables (chi-square=4145.678, p<0.0001, (i.e. p=0.0)).\n"
     ]
    }
   ],
   "source": [
    "result = chi2_contingency(biz_news_contingency)\n",
    "print(\"Based on the expected distribution of counts:\")\n",
    "pd.DataFrame(\n",
    "    result.expected_freq,\n",
    "    columns=[\"business\", \"news\"],\n",
    "    index=[\"three-star\", \"not three-star\"],\n",
    ")\n",
    "print(\n",
    "    f\"\"\"and an alpha-level of 0.05, we would reject the null hypothesis that there is not association between these variables.\n",
    "         based on these data it appears that there is an associated with these variables (chi-square={result.statistic:.3f}, p<0.0001, (i.e. p={result.pvalue})).\"\"\"\n",
    ")"
   ]
  },
  {
   "cell_type": "markdown",
   "id": "c73b277c5c9e4762",
   "metadata": {
    "collapsed": false,
    "jupyter": {
     "outputs_hidden": false
    }
   },
   "source": [
    "***\n",
    "### Length of Comedy Podcast Reviews\n",
    "Does the length of a podcast review vary based on whether it is a 1 star review or a 5 star review? <br>\n",
    "Due to the size of the dataset, I will only focus on comedy podcasts"
   ]
  },
  {
   "cell_type": "code",
   "execution_count": 59,
   "id": "76d395911ad99846",
   "metadata": {
    "ExecuteTime": {
     "end_time": "2024-03-19T00:17:55.159635Z",
     "start_time": "2024-03-19T00:17:54.986652Z"
    },
    "collapsed": false,
    "jupyter": {
     "outputs_hidden": false
    }
   },
   "outputs": [
    {
     "data": {
      "text/html": [
       "<div>\n",
       "<style scoped>\n",
       "    .dataframe tbody tr th:only-of-type {\n",
       "        vertical-align: middle;\n",
       "    }\n",
       "\n",
       "    .dataframe tbody tr th {\n",
       "        vertical-align: top;\n",
       "    }\n",
       "\n",
       "    .dataframe thead th {\n",
       "        text-align: right;\n",
       "    }\n",
       "</style>\n",
       "<table border=\"1\" class=\"dataframe\">\n",
       "  <thead>\n",
       "    <tr style=\"text-align: right;\">\n",
       "      <th></th>\n",
       "      <th>reviewer</th>\n",
       "      <th>rating</th>\n",
       "      <th>review_length</th>\n",
       "    </tr>\n",
       "  </thead>\n",
       "  <tbody>\n",
       "    <tr>\n",
       "      <th>147</th>\n",
       "      <td>949D9945B294BAE</td>\n",
       "      <td>1.0</td>\n",
       "      <td>21</td>\n",
       "    </tr>\n",
       "    <tr>\n",
       "      <th>218</th>\n",
       "      <td>0738265DAF46E55</td>\n",
       "      <td>1.0</td>\n",
       "      <td>31</td>\n",
       "    </tr>\n",
       "    <tr>\n",
       "      <th>3605</th>\n",
       "      <td>87CB4205F4AA713</td>\n",
       "      <td>1.0</td>\n",
       "      <td>81</td>\n",
       "    </tr>\n",
       "    <tr>\n",
       "      <th>12281</th>\n",
       "      <td>9E358998F1B7285</td>\n",
       "      <td>1.0</td>\n",
       "      <td>861</td>\n",
       "    </tr>\n",
       "    <tr>\n",
       "      <th>12317</th>\n",
       "      <td>6529F60BA631AFD</td>\n",
       "      <td>1.0</td>\n",
       "      <td>25</td>\n",
       "    </tr>\n",
       "    <tr>\n",
       "      <th>...</th>\n",
       "      <td>...</td>\n",
       "      <td>...</td>\n",
       "      <td>...</td>\n",
       "    </tr>\n",
       "    <tr>\n",
       "      <th>2040835</th>\n",
       "      <td>F170D53C099D6C9</td>\n",
       "      <td>1.0</td>\n",
       "      <td>22</td>\n",
       "    </tr>\n",
       "    <tr>\n",
       "      <th>2040960</th>\n",
       "      <td>93110D8BB9FC8C0</td>\n",
       "      <td>1.0</td>\n",
       "      <td>39</td>\n",
       "    </tr>\n",
       "    <tr>\n",
       "      <th>2040962</th>\n",
       "      <td>674093130463D9E</td>\n",
       "      <td>1.0</td>\n",
       "      <td>24</td>\n",
       "    </tr>\n",
       "    <tr>\n",
       "      <th>2040966</th>\n",
       "      <td>68915DE92B3586B</td>\n",
       "      <td>1.0</td>\n",
       "      <td>63</td>\n",
       "    </tr>\n",
       "    <tr>\n",
       "      <th>2041052</th>\n",
       "      <td>B637EF2AC5B2BEF</td>\n",
       "      <td>1.0</td>\n",
       "      <td>104</td>\n",
       "    </tr>\n",
       "  </tbody>\n",
       "</table>\n",
       "<p>20286 rows × 3 columns</p>\n",
       "</div>"
      ],
      "text/plain": [
       "                reviewer  rating  review_length\n",
       "147      949D9945B294BAE     1.0             21\n",
       "218      0738265DAF46E55     1.0             31\n",
       "3605     87CB4205F4AA713     1.0             81\n",
       "12281    9E358998F1B7285     1.0            861\n",
       "12317    6529F60BA631AFD     1.0             25\n",
       "...                  ...     ...            ...\n",
       "2040835  F170D53C099D6C9     1.0             22\n",
       "2040960  93110D8BB9FC8C0     1.0             39\n",
       "2040962  674093130463D9E     1.0             24\n",
       "2040966  68915DE92B3586B     1.0             63\n",
       "2041052  B637EF2AC5B2BEF     1.0            104\n",
       "\n",
       "[20286 rows x 3 columns]"
      ]
     },
     "execution_count": 59,
     "metadata": {},
     "output_type": "execute_result"
    }
   ],
   "source": [
    "one_star_reviews = main_ratings_df[\n",
    "    (main_ratings_df[\"rating\"] == 1) & (main_ratings_df[\"category\"] == \"comedy\")\n",
    "].copy()\n",
    "one_star_reviews[\"review_length\"] = one_star_reviews[\"review_content\"].apply(len)\n",
    "one_star_reviews = one_star_reviews.drop(\n",
    "    columns=[\"podcast_name\", \"review_content\", \"category\"]\n",
    ")\n",
    "one_star_reviews"
   ]
  },
  {
   "cell_type": "code",
   "execution_count": 60,
   "id": "c90c7c0670c32c76",
   "metadata": {
    "ExecuteTime": {
     "end_time": "2024-03-19T00:17:56.582818Z",
     "start_time": "2024-03-19T00:17:55.948507Z"
    },
    "collapsed": false,
    "jupyter": {
     "outputs_hidden": false
    }
   },
   "outputs": [
    {
     "data": {
      "text/html": [
       "<div>\n",
       "<style scoped>\n",
       "    .dataframe tbody tr th:only-of-type {\n",
       "        vertical-align: middle;\n",
       "    }\n",
       "\n",
       "    .dataframe tbody tr th {\n",
       "        vertical-align: top;\n",
       "    }\n",
       "\n",
       "    .dataframe thead th {\n",
       "        text-align: right;\n",
       "    }\n",
       "</style>\n",
       "<table border=\"1\" class=\"dataframe\">\n",
       "  <thead>\n",
       "    <tr style=\"text-align: right;\">\n",
       "      <th></th>\n",
       "      <th>reviewer</th>\n",
       "      <th>rating</th>\n",
       "      <th>review_length</th>\n",
       "    </tr>\n",
       "  </thead>\n",
       "  <tbody>\n",
       "    <tr>\n",
       "      <th>14</th>\n",
       "      <td>A2511C7B759BD0F</td>\n",
       "      <td>5.0</td>\n",
       "      <td>515</td>\n",
       "    </tr>\n",
       "    <tr>\n",
       "      <th>15</th>\n",
       "      <td>A747C31F1CCA2E7</td>\n",
       "      <td>5.0</td>\n",
       "      <td>80</td>\n",
       "    </tr>\n",
       "    <tr>\n",
       "      <th>16</th>\n",
       "      <td>7A976A1EF1892D2</td>\n",
       "      <td>5.0</td>\n",
       "      <td>401</td>\n",
       "    </tr>\n",
       "    <tr>\n",
       "      <th>17</th>\n",
       "      <td>6E7DF65C3BE51F8</td>\n",
       "      <td>5.0</td>\n",
       "      <td>663</td>\n",
       "    </tr>\n",
       "    <tr>\n",
       "      <th>18</th>\n",
       "      <td>31C376680AA9CB7</td>\n",
       "      <td>5.0</td>\n",
       "      <td>142</td>\n",
       "    </tr>\n",
       "    <tr>\n",
       "      <th>...</th>\n",
       "      <td>...</td>\n",
       "      <td>...</td>\n",
       "      <td>...</td>\n",
       "    </tr>\n",
       "    <tr>\n",
       "      <th>2041214</th>\n",
       "      <td>A37F623A57453B7</td>\n",
       "      <td>5.0</td>\n",
       "      <td>28</td>\n",
       "    </tr>\n",
       "    <tr>\n",
       "      <th>2041215</th>\n",
       "      <td>7155F5D775C4A60</td>\n",
       "      <td>5.0</td>\n",
       "      <td>25</td>\n",
       "    </tr>\n",
       "    <tr>\n",
       "      <th>2041216</th>\n",
       "      <td>CBF27E14C290820</td>\n",
       "      <td>5.0</td>\n",
       "      <td>75</td>\n",
       "    </tr>\n",
       "    <tr>\n",
       "      <th>2041217</th>\n",
       "      <td>95DF98782551739</td>\n",
       "      <td>5.0</td>\n",
       "      <td>65</td>\n",
       "    </tr>\n",
       "    <tr>\n",
       "      <th>2041249</th>\n",
       "      <td>74C2919274AFFFB</td>\n",
       "      <td>5.0</td>\n",
       "      <td>22</td>\n",
       "    </tr>\n",
       "  </tbody>\n",
       "</table>\n",
       "<p>287551 rows × 3 columns</p>\n",
       "</div>"
      ],
      "text/plain": [
       "                reviewer  rating  review_length\n",
       "14       A2511C7B759BD0F     5.0            515\n",
       "15       A747C31F1CCA2E7     5.0             80\n",
       "16       7A976A1EF1892D2     5.0            401\n",
       "17       6E7DF65C3BE51F8     5.0            663\n",
       "18       31C376680AA9CB7     5.0            142\n",
       "...                  ...     ...            ...\n",
       "2041214  A37F623A57453B7     5.0             28\n",
       "2041215  7155F5D775C4A60     5.0             25\n",
       "2041216  CBF27E14C290820     5.0             75\n",
       "2041217  95DF98782551739     5.0             65\n",
       "2041249  74C2919274AFFFB     5.0             22\n",
       "\n",
       "[287551 rows x 3 columns]"
      ]
     },
     "execution_count": 60,
     "metadata": {},
     "output_type": "execute_result"
    }
   ],
   "source": [
    "five_star_reviews = main_ratings_df[\n",
    "    (main_ratings_df[\"rating\"] == 5) & (main_ratings_df[\"category\"] == \"comedy\")\n",
    "].copy()\n",
    "five_star_reviews[\"review_length\"] = five_star_reviews[\"review_content\"].apply(len)\n",
    "five_star_reviews = five_star_reviews.drop(\n",
    "    columns=[\"podcast_name\", \"review_content\", \"category\"]\n",
    ")\n",
    "five_star_reviews"
   ]
  },
  {
   "cell_type": "markdown",
   "id": "d5980dc109272b27",
   "metadata": {
    "collapsed": false,
    "jupyter": {
     "outputs_hidden": false
    }
   },
   "source": [
    "in order to assume independence of SRS, I will make sure that there are no duplicates in each group "
   ]
  },
  {
   "cell_type": "code",
   "execution_count": 61,
   "id": "c8898b2027bfe1f",
   "metadata": {
    "ExecuteTime": {
     "end_time": "2024-03-19T00:17:58.418766Z",
     "start_time": "2024-03-19T00:17:58.302129Z"
    },
    "collapsed": false,
    "jupyter": {
     "outputs_hidden": false
    }
   },
   "outputs": [],
   "source": [
    "five_star_reviews = five_star_reviews[\n",
    "    ~five_star_reviews[\"reviewer\"].isin(one_star_reviews[\"reviewer\"])\n",
    "]\n",
    "one_star_reviews = one_star_reviews[\n",
    "    ~one_star_reviews[\"reviewer\"].isin(five_star_reviews[\"reviewer\"])\n",
    "]\n",
    "review_length_df = pd.concat(\n",
    "    [one_star_reviews, five_star_reviews], ignore_index=True, axis=0\n",
    ")"
   ]
  },
  {
   "cell_type": "code",
   "execution_count": 78,
   "id": "d41658df7a6a2da8",
   "metadata": {
    "ExecuteTime": {
     "end_time": "2024-03-19T00:18:00.970285Z",
     "start_time": "2024-03-19T00:18:00.125881Z"
    },
    "collapsed": false,
    "jupyter": {
     "outputs_hidden": false
    }
   },
   "outputs": [
    {
     "data": {
      "image/png": "[encoded data removed]",
      "text/plain": [
       "<Figure size 1000x600 with 1 Axes>"
      ]
     },
     "metadata": {},
     "output_type": "display_data"
    }
   ],
   "source": [
    "ax = sns.boxplot(data=review_length_df, x=\"rating\", y=\"review_length\")\n",
    "plt.title(\"Length of 1-star Reviews vs. 5-star reviews\")\n",
    "plt.ticklabel_format(style=\"plain\", axis=\"y\")\n",
    "plt.xlabel(\"Rating\")\n",
    "plt.ylabel(\"Review Length (characters)\")\n",
    "\n",
    "sns.despine(left=True, bottom=True, right=True, top=True)\n",
    "ax.xaxis.set_ticks_position(\"bottom\")\n",
    "ax.xaxis.set_tick_params(width=1, length=5)\n",
    "ax.yaxis.set_ticks_position(\"left\")\n",
    "ax.yaxis.set_tick_params(width=1, length=5)"
   ]
  },
  {
   "cell_type": "code",
   "execution_count": 63,
   "id": "c6fdfff9-515b-4be4-8dd8-d392b92564d2",
   "metadata": {
    "ExecuteTime": {
     "end_time": "2024-03-19T00:18:03.562322Z",
     "start_time": "2024-03-19T00:18:02.146432Z"
    }
   },
   "outputs": [
    {
     "data": {
      "image/png": "[encoded data removed]",
      "text/plain": [
       "<Figure size 1200x600 with 2 Axes>"
      ]
     },
     "metadata": {},
     "output_type": "display_data"
    }
   ],
   "source": [
    "fig, (ax1, ax2) = plt.subplots(1, 2, sharey=True, figsize=(12, 6))\n",
    "stats.probplot(one_star_reviews[\"review_length\"], plot=ax1)\n",
    "ax1.set_title(\"Q-Q Plot for One-Star Comedy Reviews\")\n",
    "\n",
    "stats.probplot(five_star_reviews[\"review_length\"], plot=ax2)\n",
    "ax2.set_title(\"Q-Q Plot for Five-Star Comedy Reviews\")\n",
    "\n",
    "ax1.set_ylabel(\"Ordered Values\")\n",
    "\n",
    "for ax in (ax1, ax2):\n",
    "    ax.xaxis.set_ticks_position(\"bottom\")\n",
    "    ax.xaxis.set_tick_params(width=1, length=5)\n",
    "    ax.yaxis.set_ticks_position(\"left\")\n",
    "    ax.yaxis.set_tick_params(width=1, length=5)\n",
    "\n",
    "plt.tight_layout()\n",
    "plt.show()"
   ]
  },
  {
   "cell_type": "code",
   "execution_count": 64,
   "id": "a0244677a8287c57",
   "metadata": {
    "ExecuteTime": {
     "end_time": "2024-03-19T00:18:19.524423Z",
     "start_time": "2024-03-19T00:18:04.752004Z"
    },
    "collapsed": false,
    "jupyter": {
     "outputs_hidden": false
    }
   },
   "outputs": [
    {
     "data": {
      "image/png": "[encoded data removed]",
      "text/plain": [
       "<Figure size 1200x600 with 2 Axes>"
      ]
     },
     "metadata": {},
     "output_type": "display_data"
    }
   ],
   "source": [
    "_, (ax1, ax2) = plt.subplots(1, 2, figsize=(12, 6))\n",
    "sns.histplot(data=one_star_reviews[\"review_length\"], discrete=True, ax=ax1)\n",
    "ax1.set_title(\"Review Length - 1 Star Comedy Reviews\")\n",
    "\n",
    "sns.histplot(data=five_star_reviews[\"review_length\"], discrete=True, ax=ax2)\n",
    "ax2.set_title(\"Review Length - 5 Star Comedy Reviews\")\n",
    "\n",
    "ax1.set_ylabel(\"Ordered Values\")\n",
    "\n",
    "ax1.xaxis.set_ticks_position(\"bottom\")\n",
    "ax1.xaxis.set_tick_params(width=1, length=5)\n",
    "ax1.yaxis.set_ticks_position(\"left\")\n",
    "ax1.yaxis.set_tick_params(width=1, length=5)\n",
    "\n",
    "ax2.xaxis.set_ticks_position(\"bottom\")\n",
    "ax2.xaxis.set_tick_params(width=1, length=5)\n",
    "ax2.yaxis.set_ticks_position(\"left\")\n",
    "ax2.yaxis.set_tick_params(width=1, length=5)\n",
    "\n",
    "plt.tight_layout()\n",
    "plt.show()"
   ]
  },
  {
   "cell_type": "markdown",
   "id": "c206ce8fa3bec91",
   "metadata": {
    "collapsed": false,
    "jupyter": {
     "outputs_hidden": false
    }
   },
   "source": [
    "Since these distributions are both definitely not normal (right skewed), it does not make sense to use parametric tests to test whether there is any difference in the length of 5-star reviews and 1-star reviews of comedy podcasts.\n",
    "\n",
    "Instead, I will take 2 separate approaches. \n",
    "First, I will take the approach of using resampling approaches:\n",
    "- bootstrapped confidence interval\n",
    "- test hypothesis against the null distribution created by permutation testing \n",
    "\n",
    "in all cases the null distribution suggests that there is no difference between the groups.\n",
    "\n",
    "__population 1__: One-Star Reviews of Comedy Podcasts <br>\n",
    "__population 2__: Five-Star Reviews of Comedy Podcasts\n",
    "\n",
    "$H_{0}$: Length of 1-Star Comedy Podcast Reviews = Length of 5-Star Comedy Podcast Reviews <br>\n",
    "$H_{a}$: Length of 1-Star Comedy Podcast Reviews $\\neq$ Length of 5-Star Comedy Podcast Reviews\n",
    "\n",
    "Parameter of Interest:$\\mu_{1}$ - $\\mu_{2}$ <br>\n",
    "(Average Length of Comedy Podcast 1-Star Reviews - Average Length of Comedy Podcast 5-Star Reviews)\n",
    "\n",
    "$\\alpha$-level = 0.05\n",
    "\n",
    "I will perform a 2-way test. "
   ]
  },
  {
   "cell_type": "markdown",
   "id": "11498b3769f626c6",
   "metadata": {
    "collapsed": false,
    "jupyter": {
     "outputs_hidden": false
    }
   },
   "source": [
    "first I will generate a bootstrapped confidence interval for the difference between two mean review lengths"
   ]
  },
  {
   "cell_type": "code",
   "execution_count": 66,
   "id": "522ef0d32fdd1e76",
   "metadata": {
    "ExecuteTime": {
     "end_time": "2024-03-19T00:18:37.087933Z",
     "start_time": "2024-03-19T00:18:37.081971Z"
    },
    "collapsed": false,
    "jupyter": {
     "outputs_hidden": false
    }
   },
   "outputs": [
    {
     "name": "stdout",
     "output_type": "stream",
     "text": [
      "61.684093957171285\n"
     ]
    }
   ],
   "source": [
    "best_estimate = np.mean(one_star_reviews[\"review_length\"]) - np.mean(\n",
    "    five_star_reviews[\"review_length\"]\n",
    ")\n",
    "print(best_estimate)"
   ]
  },
  {
   "cell_type": "code",
   "execution_count": 69,
   "id": "edbbeb73ff2d404a",
   "metadata": {
    "ExecuteTime": {
     "end_time": "2024-03-19T00:18:45.314950Z",
     "start_time": "2024-03-19T00:18:38.581822Z"
    },
    "collapsed": false,
    "jupyter": {
     "outputs_hidden": false
    }
   },
   "outputs": [
    {
     "name": "stdout",
     "output_type": "stream",
     "text": [
      "Bootstrap Confidence Interval (95%): (56.817, 66.594)\n"
     ]
    }
   ],
   "source": [
    "ci_lower, ci_upper = bootstrap_confidence_interval_two_means(\n",
    "    one_star_reviews[\"review_length\"], five_star_reviews[\"review_length\"]\n",
    ")\n",
    "\n",
    "print(f\"Bootstrap Confidence Interval (95%): ({ci_lower:.3f}, {ci_upper:.3f})\")"
   ]
  },
  {
   "cell_type": "markdown",
   "id": "b4763243e5748dc",
   "metadata": {
    "collapsed": false,
    "jupyter": {
     "outputs_hidden": false
    }
   },
   "source": [
    "I will now calculate a permutation test for these sample means and a null distribution "
   ]
  },
  {
   "cell_type": "code",
   "execution_count": 71,
   "id": "e5f72416a16580b7",
   "metadata": {
    "ExecuteTime": {
     "end_time": "2024-03-19T00:18:47.040495Z",
     "start_time": "2024-03-19T00:18:46.957534Z"
    },
    "collapsed": false,
    "jupyter": {
     "outputs_hidden": false
    }
   },
   "outputs": [
    {
     "name": "stdout",
     "output_type": "stream",
     "text": [
      "-0.7322586813781413\n"
     ]
    }
   ],
   "source": [
    "size_one_star = one_star_reviews[\"review_length\"].size\n",
    "size_five_star = five_star_reviews[\"review_length\"].size\n",
    "print(mean_diff_permutation(review_length_df[\"review_length\"], size_one_star, size_five_star))"
   ]
  },
  {
   "cell_type": "code",
   "execution_count": 72,
   "id": "b9eea06f50ff654f",
   "metadata": {
    "ExecuteTime": {
     "end_time": "2024-03-19T00:19:43.072144Z",
     "start_time": "2024-03-19T00:18:48.043325Z"
    },
    "collapsed": false,
    "jupyter": {
     "outputs_hidden": false
    }
   },
   "outputs": [],
   "source": [
    "perm_diffs = [\n",
    "    mean_diff_permutation(\n",
    "        review_length_df[\"review_length\"], size_one_star, size_five_star\n",
    "    )\n",
    "    for _ in range(1000)\n",
    "]"
   ]
  },
  {
   "cell_type": "code",
   "execution_count": 73,
   "id": "1c926ed25cf50aa5",
   "metadata": {
    "ExecuteTime": {
     "end_time": "2024-03-19T00:20:53.689625Z",
     "start_time": "2024-03-19T00:20:53.481922Z"
    },
    "collapsed": false,
    "jupyter": {
     "outputs_hidden": false
    }
   },
   "outputs": [
    {
     "data": {
      "image/png": "[encoded data removed]",
      "text/plain": [
       "<Figure size 1000x600 with 1 Axes>"
      ]
     },
     "metadata": {},
     "output_type": "display_data"
    }
   ],
   "source": [
    "ax = sns.histplot(data=perm_diffs, bins=10)\n",
    "ax.axvline(x=best_estimate, linestyle=\"--\", color=\"black\")\n",
    "\n",
    "sns.despine(left=True, bottom=True, right=True, top=True)\n",
    "ax.xaxis.set_ticks_position(\"bottom\")\n",
    "ax.xaxis.set_tick_params(width=1, length=5)\n",
    "ax.yaxis.set_ticks_position(\"left\")\n",
    "ax.yaxis.set_tick_params(width=1, length=5)\n",
    "ax.text(53, 200, \"Observed\\ndifference\", bbox={\"facecolor\": \"white\"})\n",
    "\n",
    "\n",
    "plt.title(\"Permutation Test of Mean Difference in Review Length\")\n",
    "plt.xlabel(\n",
    "    \"Difference in Length of (One-Star Reviews - Five-Star Reviews) of Comedy Podcasts\"\n",
    ")\n",
    "plt.ylabel(\"Count\")\n",
    "plt.show()"
   ]
  },
  {
   "cell_type": "markdown",
   "id": "ab76ed13c1510027",
   "metadata": {
    "collapsed": false,
    "jupyter": {
     "outputs_hidden": false
    }
   },
   "source": [
    "Notice that the difference is not one that falls anywhere close to the null permutation distribution."
   ]
  },
  {
   "cell_type": "markdown",
   "id": "b9425abd218ffd4f",
   "metadata": {
    "collapsed": false,
    "jupyter": {
     "outputs_hidden": false
    }
   },
   "source": [
    "it appears that one star reviews are longer than five star reviews by approximately 56 characters"
   ]
  },
  {
   "cell_type": "markdown",
   "id": "97249f0deb6ddad5",
   "metadata": {
    "collapsed": false,
    "jupyter": {
     "outputs_hidden": false
    }
   },
   "source": [
    "*** \n",
    "## Paired Samples -- Does the same reviewer give similar ratings to two different podcasts? \n",
    "\n",
    "For this I am choosing two popular political podcasts amongsts American Liberals, \"The Daily\" and \"Pod Save America\" and looking at the ratings of shared reviewers. We have seen sufficient evidence that data from ratings does not follow a normal distribution, so instead of testing for normality, I will jump directly to a non-parametric test, the Wilcoxon signed-rank test for paired samples. \n",
    "\n",
    "The first challenge is to get clean paired simple random samples. For this I chose to focus on only these two podcasts and get uses that have only reviewed each podcast once. \n",
    "\n",
    "__population__: reviewers of The Daily and Pod Save America <br>\n",
    "__sample__: reviewers who reviewed The Daily and Pod Save America both exactly once \n",
    "\n",
    "Null Hypothesis: Those who rate one podcast with rate the second podcast similarly.<br> \n",
    "                 Rating 1 = Rating 2\n",
    "\n",
    "$\\alpha-level$ = 0.05"
   ]
  },
  {
   "cell_type": "code",
   "execution_count": 74,
   "id": "481df8bf3f4abb38",
   "metadata": {
    "ExecuteTime": {
     "end_time": "2024-03-19T00:21:01.363520Z",
     "start_time": "2024-03-19T00:21:00.986709Z"
    },
    "collapsed": false,
    "jupyter": {
     "outputs_hidden": false
    }
   },
   "outputs": [
    {
     "data": {
      "text/html": [
       "<div>\n",
       "<style scoped>\n",
       "    .dataframe tbody tr th:only-of-type {\n",
       "        vertical-align: middle;\n",
       "    }\n",
       "\n",
       "    .dataframe tbody tr th {\n",
       "        vertical-align: top;\n",
       "    }\n",
       "\n",
       "    .dataframe thead th {\n",
       "        text-align: right;\n",
       "    }\n",
       "</style>\n",
       "<table border=\"1\" class=\"dataframe\">\n",
       "  <thead>\n",
       "    <tr style=\"text-align: right;\">\n",
       "      <th></th>\n",
       "      <th>podcast_name_Daily</th>\n",
       "      <th>reviewer</th>\n",
       "      <th>rating_Daily</th>\n",
       "      <th>podcast_name_PSA</th>\n",
       "      <th>rating_PSA</th>\n",
       "    </tr>\n",
       "  </thead>\n",
       "  <tbody>\n",
       "    <tr>\n",
       "      <th>0</th>\n",
       "      <td>The Daily</td>\n",
       "      <td>231B095194D63F7</td>\n",
       "      <td>1.0</td>\n",
       "      <td>Pod Save America</td>\n",
       "      <td>1.0</td>\n",
       "    </tr>\n",
       "    <tr>\n",
       "      <th>1</th>\n",
       "      <td>The Daily</td>\n",
       "      <td>840FE4C2626D25F</td>\n",
       "      <td>1.0</td>\n",
       "      <td>Pod Save America</td>\n",
       "      <td>1.0</td>\n",
       "    </tr>\n",
       "    <tr>\n",
       "      <th>2</th>\n",
       "      <td>The Daily</td>\n",
       "      <td>B568A6AFA6FCAA5</td>\n",
       "      <td>3.0</td>\n",
       "      <td>Pod Save America</td>\n",
       "      <td>1.0</td>\n",
       "    </tr>\n",
       "    <tr>\n",
       "      <th>3</th>\n",
       "      <td>The Daily</td>\n",
       "      <td>17D1D310138BA37</td>\n",
       "      <td>3.0</td>\n",
       "      <td>Pod Save America</td>\n",
       "      <td>5.0</td>\n",
       "    </tr>\n",
       "    <tr>\n",
       "      <th>4</th>\n",
       "      <td>The Daily</td>\n",
       "      <td>74F1D46CAE6812E</td>\n",
       "      <td>3.0</td>\n",
       "      <td>Pod Save America</td>\n",
       "      <td>3.0</td>\n",
       "    </tr>\n",
       "    <tr>\n",
       "      <th>...</th>\n",
       "      <td>...</td>\n",
       "      <td>...</td>\n",
       "      <td>...</td>\n",
       "      <td>...</td>\n",
       "      <td>...</td>\n",
       "    </tr>\n",
       "    <tr>\n",
       "      <th>84</th>\n",
       "      <td>The Daily</td>\n",
       "      <td>2C5D530277B4020</td>\n",
       "      <td>3.0</td>\n",
       "      <td>Pod Save America</td>\n",
       "      <td>4.0</td>\n",
       "    </tr>\n",
       "    <tr>\n",
       "      <th>85</th>\n",
       "      <td>The Daily</td>\n",
       "      <td>4E5B0A17EBB698B</td>\n",
       "      <td>3.0</td>\n",
       "      <td>Pod Save America</td>\n",
       "      <td>5.0</td>\n",
       "    </tr>\n",
       "    <tr>\n",
       "      <th>86</th>\n",
       "      <td>The Daily</td>\n",
       "      <td>9A0B8FC79F629EC</td>\n",
       "      <td>1.0</td>\n",
       "      <td>Pod Save America</td>\n",
       "      <td>1.0</td>\n",
       "    </tr>\n",
       "    <tr>\n",
       "      <th>87</th>\n",
       "      <td>The Daily</td>\n",
       "      <td>3FCAFAE6ED37766</td>\n",
       "      <td>2.0</td>\n",
       "      <td>Pod Save America</td>\n",
       "      <td>1.0</td>\n",
       "    </tr>\n",
       "    <tr>\n",
       "      <th>88</th>\n",
       "      <td>The Daily</td>\n",
       "      <td>AC02D6D9B836C20</td>\n",
       "      <td>5.0</td>\n",
       "      <td>Pod Save America</td>\n",
       "      <td>5.0</td>\n",
       "    </tr>\n",
       "  </tbody>\n",
       "</table>\n",
       "<p>89 rows × 5 columns</p>\n",
       "</div>"
      ],
      "text/plain": [
       "   podcast_name_Daily         reviewer  rating_Daily  podcast_name_PSA  \\\n",
       "0           The Daily  231B095194D63F7           1.0  Pod Save America   \n",
       "1           The Daily  840FE4C2626D25F           1.0  Pod Save America   \n",
       "2           The Daily  B568A6AFA6FCAA5           3.0  Pod Save America   \n",
       "3           The Daily  17D1D310138BA37           3.0  Pod Save America   \n",
       "4           The Daily  74F1D46CAE6812E           3.0  Pod Save America   \n",
       "..                ...              ...           ...               ...   \n",
       "84          The Daily  2C5D530277B4020           3.0  Pod Save America   \n",
       "85          The Daily  4E5B0A17EBB698B           3.0  Pod Save America   \n",
       "86          The Daily  9A0B8FC79F629EC           1.0  Pod Save America   \n",
       "87          The Daily  3FCAFAE6ED37766           2.0  Pod Save America   \n",
       "88          The Daily  AC02D6D9B836C20           5.0  Pod Save America   \n",
       "\n",
       "    rating_PSA  \n",
       "0          1.0  \n",
       "1          1.0  \n",
       "2          1.0  \n",
       "3          5.0  \n",
       "4          3.0  \n",
       "..         ...  \n",
       "84         4.0  \n",
       "85         5.0  \n",
       "86         1.0  \n",
       "87         1.0  \n",
       "88         5.0  \n",
       "\n",
       "[89 rows x 5 columns]"
      ]
     },
     "execution_count": 74,
     "metadata": {},
     "output_type": "execute_result"
    }
   ],
   "source": [
    "lib_pods = main_ratings_df[[\"podcast_name\", \"reviewer\", \"rating\"]][\n",
    "    (main_ratings_df[\"podcast_name\"] == \"The Daily\")\n",
    "    | (main_ratings_df[\"podcast_name\"] == \"Pod Save America\")\n",
    "]\n",
    "grouped = (\n",
    "    lib_pods.groupby([\"reviewer\", \"podcast_name\"])\n",
    "    .size()\n",
    "    .reset_index(name=\"rating_count\")\n",
    ")\n",
    "pivot_table = grouped.pivot(\n",
    "    index=\"reviewer\", columns=\"podcast_name\", values=\"rating_count\"\n",
    ").fillna(0)\n",
    "filtered_reviewers = pivot_table[\n",
    "    (pivot_table[\"Pod Save America\"] == 1) & (pivot_table[\"The Daily\"] == 1)\n",
    "]\n",
    "reviewer_names = filtered_reviewers.index.tolist()\n",
    "filtered_df = lib_pods[lib_pods[\"reviewer\"].isin(reviewer_names)]\n",
    "common_daily = filtered_df[filtered_df[\"podcast_name\"] == \"The Daily\"]\n",
    "common_pod_save = filtered_df[filtered_df[\"podcast_name\"] == \"Pod Save America\"]\n",
    "merged_df = pd.merge(\n",
    "    common_daily, common_pod_save, on=\"reviewer\", suffixes=(\"_Daily\", \"_PSA\")\n",
    ")\n",
    "merged_df"
   ]
  },
  {
   "cell_type": "code",
   "execution_count": 75,
   "id": "83968fc37e81595e",
   "metadata": {
    "ExecuteTime": {
     "end_time": "2024-03-19T00:21:02.432867Z",
     "start_time": "2024-03-19T00:21:02.225577Z"
    },
    "collapsed": false,
    "jupyter": {
     "outputs_hidden": false
    }
   },
   "outputs": [
    {
     "data": {
      "image/png": "[encoded data removed]",
      "text/plain": [
       "<Figure size 800x600 with 1 Axes>"
      ]
     },
     "metadata": {},
     "output_type": "display_data"
    }
   ],
   "source": [
    "jitter = 0.1\n",
    "merged_df[\"rating_Daily_jittered\"] = merged_df[\"rating_Daily\"] + np.random.uniform(\n",
    "    -jitter, jitter, size=len(merged_df)\n",
    ")\n",
    "merged_df[\"rating_PSA_jittered\"] = merged_df[\"rating_PSA\"] + np.random.uniform(\n",
    "    -jitter, jitter, size=len(merged_df)\n",
    ")\n",
    "\n",
    "plt.figure(figsize=(8, 6))\n",
    "plt.scatter(\n",
    "    merged_df[\"rating_Daily_jittered\"], merged_df[\"rating_PSA_jittered\"], alpha=0.5\n",
    ")\n",
    "plt.title(\"Scatterplot of Ratings for Podcast 1 vs Podcast 2\")\n",
    "plt.xlabel(\"Rating for The Daily\")\n",
    "plt.ylabel(\"Rating for Pod Save America\")\n",
    "plt.grid(True)\n",
    "plt.show()"
   ]
  },
  {
   "cell_type": "code",
   "execution_count": 76,
   "id": "b69ba6ea3d9ef2dc",
   "metadata": {
    "ExecuteTime": {
     "end_time": "2024-03-19T00:21:03.553836Z",
     "start_time": "2024-03-19T00:21:03.546922Z"
    },
    "collapsed": false,
    "jupyter": {
     "outputs_hidden": false
    }
   },
   "outputs": [
    {
     "name": "stdout",
     "output_type": "stream",
     "text": [
      "Wilcoxon signed-rank test:\n",
      "Statistic: 867.0\n",
      "p-value: 0.7213920285156985\n",
      "Fail to reject the null hypothesis: There is no evidence that the ratings differ between the two podcasts.\n"
     ]
    }
   ],
   "source": [
    "statistic, p_value = wilcoxon(common_daily.rating, common_pod_save.rating)\n",
    "\n",
    "print(\"Wilcoxon signed-rank test:\")\n",
    "print(\"Statistic:\", statistic)\n",
    "print(\"p-value:\", p_value)\n",
    "\n",
    "alpha = 0.05\n",
    "if p_value < alpha:\n",
    "    print(\n",
    "        \"Reject the null hypothesis: There is evidence that the ratings differ between the two podcasts.\"\n",
    "    )\n",
    "else:\n",
    "    print(\n",
    "        \"Fail to reject the null hypothesis: There is no evidence that the ratings differ between the two podcasts.\"\n",
    "    )"
   ]
  },
  {
   "cell_type": "markdown",
   "id": "da8d850a-6286-4349-8199-6b3137c663a6",
   "metadata": {},
   "source": [
    "According to this non-parametric test of paired-samples, those who rate both podcasts do not appear to do so differently. "
   ]
  },
  {
   "cell_type": "markdown",
   "id": "abd5ae62-7b31-4c31-a6dd-9bd7dbed299a",
   "metadata": {
    "collapsed": false,
    "jupyter": {
     "outputs_hidden": false
    }
   },
   "source": [
    "***\n",
    "## Conclusions:\n",
    "#### - 5-star reviews are the most common for all categories\n",
    "#### - Most podcasts are rated similarly (5-stars)\n",
    "#### - Ratings are not normally distributed\n",
    "#### - Negatively reviewed podcast categories (e.g. News-Government) get more 3-star reviewed than positively reviewed podcast categories (e.g. Business)\n",
    "#### - 1-star reviews are slightly longer than 5-star reviews\n",
    "#### - People who rate two podcasts do so similarly"
   ]
  },
  {
   "cell_type": "markdown",
   "id": "a6b080889006950a",
   "metadata": {
    "collapsed": false,
    "jupyter": {
     "outputs_hidden": false
    }
   },
   "source": [
    "#### Future Directions\n",
    "This analysis could be improved by deeper consideration of more continuous quantitative variables such as time-series (e.g. datetime variables) or by creating new features through text analysis or sentimentality analysis. In general, this notebook could be simplified. Lastly, the statistical analyses performed may have been beyond what is necessary for these data. However, I wanted to use this opportunity to practice specific techniques such as hypothesis testing even though the data did not readily lend themselves to those techniques. <br>\n",
    "\n",
    "***\n",
    "\n",
    "__Looker Studio Dashboard__\n",
    "\n",
    "To see a basic Looker Dashboard built from this database click [here](https://lookerstudio.google.com/reporting/4b70c021-6318-464d-aacb-676f92817f84)"
   ]
  },
  {
   "cell_type": "code",
   "execution_count": null,
   "id": "e726d747e7841ed",
   "metadata": {
    "collapsed": false,
    "jupyter": {
     "outputs_hidden": false
    }
   },
   "outputs": [],
   "source": []
  }
 ],
 "metadata": {
  "kernelspec": {
   "display_name": "podcast_reviews",
   "language": "python",
   "name": "python3"
  },
  "language_info": {
   "codemirror_mode": {
    "name": "ipython",
    "version": 3
   },
   "file_extension": ".py",
   "mimetype": "text/x-python",
   "name": "python",
   "nbconvert_exporter": "python",
   "pygments_lexer": "ipython3",
   "version": "3.11.5"
  }
 },
 "nbformat": 4,
 "nbformat_minor": 5
}
